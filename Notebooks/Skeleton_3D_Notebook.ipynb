{
  "nbformat": 4,
  "nbformat_minor": 0,
  "metadata": {
    "colab": {
      "provenance": [],
      "collapsed_sections": [
        "F8e91NXK3I-J",
        "mKJWTSxN6trQ",
        "DwNNA3wC61ZJ",
        "R5NkfzL96_LC",
        "Ztmi_oVk7J_h",
        "vUu-dxaW7aEt",
        "9e89t2Il7nVX",
        "5BQESu407qSL",
        "bHj1dJZm8WwL",
        "JWNca5y787XV",
        "xQ42at6i8__W",
        "9cndx9H6AJfY",
        "EUJ1CDOP-8Ma",
        "08StGzYp_aWU",
        "LrgAZp9LBhit",
        "4DCAqhmuEYg_",
        "qy4_sjzvEn5I"
      ],
      "gpuType": "T4"
    },
    "kernelspec": {
      "name": "python3",
      "display_name": "Python 3"
    },
    "language_info": {
      "name": "python"
    },
    "accelerator": "GPU"
  },
  "cells": [
    {
      "cell_type": "markdown",
      "source": [
        "# **Import Libraries**"
      ],
      "metadata": {
        "id": "F8e91NXK3I-J"
      }
    },
    {
      "cell_type": "code",
      "source": [
        "from google.colab import drive\n",
        "drive.mount('/content/drive')"
      ],
      "metadata": {
        "id": "XAG3jfgkMDqE",
        "colab": {
          "base_uri": "https://localhost:8080/"
        },
        "outputId": "0046874d-85a8-4c9a-ab0c-563932f7f4e8"
      },
      "execution_count": 1,
      "outputs": [
        {
          "output_type": "stream",
          "name": "stdout",
          "text": [
            "Mounted at /content/drive\n"
          ]
        }
      ]
    },
    {
      "cell_type": "code",
      "source": [
        "import os\n",
        "import torch\n",
        "import torch.nn as nn\n",
        "import torch.optim as optim\n",
        "from torch.utils.data import Dataset, DataLoader\n",
        "from torchvision.transforms import ToTensor\n",
        "from pathlib import Path\n",
        "from PIL import Image\n",
        "from sklearn.model_selection import train_test_split\n",
        "from tqdm import tqdm\n",
        "import numpy as np\n",
        "import matplotlib.pyplot as plt\n",
        "import zipfile\n",
        "import os"
      ],
      "metadata": {
        "id": "XQD7qyYj3QaI"
      },
      "execution_count": 2,
      "outputs": []
    },
    {
      "cell_type": "markdown",
      "source": [
        "# **Data Loading**"
      ],
      "metadata": {
        "id": "mKJWTSxN6trQ"
      }
    },
    {
      "cell_type": "code",
      "source": [
        "# Path to the zip file\n",
        "#zip_path = '/content/drive/MyDrive/skeleton_bin_data.zip'\n",
        "# Destination folder\n",
        "#output_dir = '/content/drive/MyDrive/skeleton_bin_data'\n",
        "\n",
        "# Create output directory if it doesn't exist\n",
        "#os.makedirs(output_dir, exist_ok=True)\n",
        "\n",
        "# Unzipping the file\n",
        "#with zipfile.ZipFile(zip_path, 'r') as zip_ref:\n",
        "#    zip_ref.extractall(output_dir)\n",
        "\n",
        "#print(f\"Data unzipped to {output_dir}\")"
      ],
      "metadata": {
        "colab": {
          "base_uri": "https://localhost:8080/"
        },
        "id": "jdtzWlp20qti",
        "outputId": "300d9833-0023-46bc-c527-898daddc3143"
      },
      "execution_count": null,
      "outputs": [
        {
          "output_type": "stream",
          "name": "stdout",
          "text": [
            "Data unzipped to /content/drive/MyDrive/skeleton_bin_data\n"
          ]
        }
      ]
    },
    {
      "cell_type": "code",
      "source": [
        "# Path to your dataset\n",
        "dataset_path = Path(\"/content/drive/MyDrive/skeleton_bin_data/Données/d1-27-12\")\n",
        "images_path = dataset_path / \"ori\"\n",
        "skeleton_path = dataset_path / \"skeleton\""
      ],
      "metadata": {
        "id": "XIFEy9nL3X0t"
      },
      "execution_count": null,
      "outputs": []
    },
    {
      "cell_type": "markdown",
      "source": [
        "## *Helper Function to Walk Through Directories*"
      ],
      "metadata": {
        "id": "DwNNA3wC61ZJ"
      }
    },
    {
      "cell_type": "code",
      "source": [
        "# Function to walk through directories\n",
        "def walk_through_dir(base_path):\n",
        "    for dirpath, dirnames, filenames in os.walk(base_path):\n",
        "        print(f'Found {len(filenames)} images in {dirpath}')\n",
        "        break\n",
        "\n",
        "# Walk through images and masks directories\n",
        "walk_through_dir(images_path)\n",
        "walk_through_dir(skeleton_path)"
      ],
      "metadata": {
        "id": "gHbpNYud62t4",
        "colab": {
          "base_uri": "https://localhost:8080/"
        },
        "outputId": "7b67631c-f8de-4b18-cc2a-1e699a3a8277"
      },
      "execution_count": null,
      "outputs": [
        {
          "output_type": "stream",
          "name": "stdout",
          "text": [
            "Found 256 images in /content/drive/MyDrive/skeleton_bin_data/Données/d1-27-12/ori\n",
            "Found 256 images in /content/drive/MyDrive/skeleton_bin_data/Données/d1-27-12/skeleton\n"
          ]
        }
      ]
    },
    {
      "cell_type": "markdown",
      "source": [
        "## *Helper Class for Data Loading*"
      ],
      "metadata": {
        "id": "R5NkfzL96_LC"
      }
    },
    {
      "cell_type": "code",
      "source": [
        "class PoreSegmentationDataset(Dataset):\n",
        "    def __init__(self, image_paths, skeleton_path, transform=None):\n",
        "        self.image_paths = image_paths\n",
        "        self.skeleton_path = skeleton_path\n",
        "        self.transform = transform\n",
        "\n",
        "    def __len__(self):\n",
        "        return len(self.image_paths)\n",
        "\n",
        "    def __getitem__(self, idx):\n",
        "        try:\n",
        "            # Load image and skeleton\n",
        "            image = Image.open(self.image_paths[idx]).convert(\"L\")  # Grayscale\n",
        "            skeleton = Image.open(self.skeleton_path[idx]).convert(\"L\")  # Grayscale\n",
        "        except Exception as e:\n",
        "            raise RuntimeError(f\"Error loading image or skeleton : {e}\")\n",
        "\n",
        "        # Convert to tensors and normalize\n",
        "        image = ToTensor()(image)  # Convert to Tensor and normalize to [0, 1]\n",
        "        skeleton = ToTensor()(skeleton).float()  # Convert to Tensor and normalize to [0, 1]\n",
        "\n",
        "        # Ensure binary masks\n",
        "        skeleton = (skeleton > 0.5).float()  # Threshold to binary (0 or 1)\n",
        "\n",
        "        # Apply transformations if any\n",
        "        if self.transform:\n",
        "            image = self.transform(image)\n",
        "            skeleton = self.transform(skeleton)\n",
        "\n",
        "        return image, skeleton"
      ],
      "metadata": {
        "id": "rbWPoFmN3eQD"
      },
      "execution_count": null,
      "outputs": []
    },
    {
      "cell_type": "markdown",
      "source": [
        "# **Load and Transform Data**"
      ],
      "metadata": {
        "id": "Ztmi_oVk7J_h"
      }
    },
    {
      "cell_type": "code",
      "source": [
        "import re"
      ],
      "metadata": {
        "id": "gmu77txp4Agz"
      },
      "execution_count": null,
      "outputs": []
    },
    {
      "cell_type": "code",
      "source": [
        "# Define a function to extract the numeric part of a filename\n",
        "def extract_number(path):\n",
        "    match = re.search(r'(\\d+)', path.name)\n",
        "    return int(match.group(1)) if match else float('inf')  # Handle cases with no number\n",
        "\n",
        "# Sort paths numerically\n",
        "image_paths = sorted(images_path.glob(\"*.png\"), key=extract_number)\n",
        "skeleton_paths = sorted(skeleton_path.glob(\"*.png\"), key=extract_number)"
      ],
      "metadata": {
        "id": "87fwM5VG3-Zw"
      },
      "execution_count": null,
      "outputs": []
    },
    {
      "cell_type": "code",
      "source": [
        "# Split into train, validation, and test sets\n",
        "train_image_paths, test_image_paths, train_skeleton_paths, test_skeleton_paths = train_test_split(\n",
        "    image_paths, skeleton_paths, test_size=0.2\n",
        ")\n",
        "train_image_paths, val_image_paths, train_skeleton_paths, val_skeleton_paths = train_test_split(\n",
        "    train_image_paths, train_skeleton_paths, test_size=0.2\n",
        ")\n",
        "\n",
        "# Create datasets\n",
        "train_dataset = PoreSegmentationDataset(train_image_paths, train_skeleton_paths)\n",
        "val_dataset = PoreSegmentationDataset(val_image_paths, val_skeleton_paths)\n",
        "test_dataset = PoreSegmentationDataset(test_image_paths, test_skeleton_paths)\n",
        "\n",
        "# Create data loaders\n",
        "train_loader = DataLoader(train_dataset, batch_size=16, shuffle=True)\n",
        "val_loader = DataLoader(val_dataset, batch_size=16, shuffle=False)\n",
        "test_loader = DataLoader(test_dataset, batch_size=16, shuffle=False)"
      ],
      "metadata": {
        "id": "9JOBA5Wk3jXc"
      },
      "execution_count": null,
      "outputs": []
    },
    {
      "cell_type": "code",
      "source": [
        "print(\"Training dataset size:\", len(train_dataset))\n",
        "print(\"Validation dataset size:\", len(val_dataset))\n",
        "print(\"Test dataset size:\", len(test_dataset))"
      ],
      "metadata": {
        "colab": {
          "base_uri": "https://localhost:8080/"
        },
        "id": "qWa_5vTfL-5i",
        "outputId": "9c7986b3-ee33-4988-aa06-a52386cb1950"
      },
      "execution_count": null,
      "outputs": [
        {
          "output_type": "stream",
          "name": "stdout",
          "text": [
            "Training dataset size: 163\n",
            "Validation dataset size: 41\n",
            "Test dataset size: 52\n"
          ]
        }
      ]
    },
    {
      "cell_type": "markdown",
      "source": [
        "## *Visualizing a Random Sample*"
      ],
      "metadata": {
        "id": "6IyqRscs7PmK"
      }
    },
    {
      "cell_type": "code",
      "source": [
        "import torchvision.transforms as T\n",
        "import random"
      ],
      "metadata": {
        "id": "pCt7jFXm7T3n"
      },
      "execution_count": null,
      "outputs": []
    },
    {
      "cell_type": "code",
      "source": [
        "# Function to display a random image and its mask\n",
        "def display_random_image_with_skeleton(dataset):\n",
        "    # Randomly select an index\n",
        "    idx = random.randint(0, len(dataset) - 1)\n",
        "\n",
        "    # Get the image and skeleton\n",
        "    image, skeleton = dataset[idx]\n",
        "\n",
        "    # If tensors, convert to PIL for visualization\n",
        "    if isinstance(image, torch.Tensor):\n",
        "        image = T.ToPILImage()(image)\n",
        "    if isinstance(skeleton, torch.Tensor):\n",
        "        skeleton = T.ToPILImage()(skeleton)\n",
        "\n",
        "    # Display the image and mask\n",
        "    plt.figure(figsize=(10, 5))\n",
        "\n",
        "    # Display image in color\n",
        "    plt.subplot(1, 2, 1)\n",
        "    plt.imshow(image,cmap=\"gray\")  # Displays image in GrayScale\n",
        "    plt.title(\"Image (Color)\")\n",
        "    plt.axis(\"off\")\n",
        "\n",
        "    # Display skeleton\n",
        "    plt.subplot(1, 2, 2)\n",
        "    plt.imshow(skeleton, cmap=\"gray\")\n",
        "    plt.title(\"skeleton\")\n",
        "    plt.axis(\"off\")\n",
        "\n",
        "    plt.show()\n",
        "\n",
        "# Display random image with skeleton from training dataset\n",
        "display_random_image_with_skeleton(train_dataset)"
      ],
      "metadata": {
        "colab": {
          "base_uri": "https://localhost:8080/",
          "height": 411
        },
        "outputId": "4094ffa6-c4a2-4763-f69a-2c0ee909ef90",
        "id": "PLtRTquY7T3o"
      },
      "execution_count": null,
      "outputs": [
        {
          "output_type": "display_data",
          "data": {
            "text/plain": [
              "<Figure size 1000x500 with 2 Axes>"
            ],
            "image/png": "[encoded data removed]"
          },
          "metadata": {}
        }
      ]
    },
    {
      "cell_type": "markdown",
      "source": [
        "# **Model (UNet Architecture)**"
      ],
      "metadata": {
        "id": "vUu-dxaW7aEt"
      }
    },
    {
      "cell_type": "code",
      "source": [
        "class UNet(nn.Module):\n",
        "    def __init__(self, in_channels, out_channels):\n",
        "        super(UNet, self).__init__()\n",
        "        self.enc1 = self.conv_block(in_channels, 64)\n",
        "        self.enc2 = self.conv_block(64, 128)\n",
        "        self.enc3 = self.conv_block(128, 256)\n",
        "        self.enc4 = self.conv_block(256, 512)\n",
        "\n",
        "        self.upconv1 = self.upconv_block(512, 256)\n",
        "        self.upconv2 = self.upconv_block(256, 128)\n",
        "        self.upconv3 = self.upconv_block(128, 64)\n",
        "\n",
        "        self.final = nn.Conv2d(64, out_channels, kernel_size=1)\n",
        "\n",
        "        self.upsample_to_input = nn.Upsample(scale_factor=2, mode='bilinear', align_corners=True)\n",
        "\n",
        "    def conv_block(self, in_channels, out_channels):\n",
        "        return nn.Sequential(\n",
        "            nn.Conv2d(in_channels, out_channels, kernel_size=3, padding=1),\n",
        "            nn.BatchNorm2d(out_channels),  # Added Batch Normalization\n",
        "            nn.ReLU(inplace=True),\n",
        "            nn.Conv2d(out_channels, out_channels, kernel_size=3, padding=1),\n",
        "            nn.BatchNorm2d(out_channels),  # Added Batch Normalization\n",
        "            nn.ReLU(inplace=True),\n",
        "            nn.MaxPool2d(2)\n",
        "        )\n",
        "\n",
        "    def upconv_block(self, in_channels, out_channels):\n",
        "        return nn.Sequential(\n",
        "            nn.ConvTranspose2d(in_channels, out_channels, kernel_size=2, stride=2),\n",
        "            nn.BatchNorm2d(out_channels),  # Added Batch Normalization\n",
        "            nn.ReLU(inplace=True)\n",
        "        )\n",
        "\n",
        "    def forward(self, x):\n",
        "        enc1 = self.enc1(x)\n",
        "        enc2 = self.enc2(enc1)\n",
        "        enc3 = self.enc3(enc2)\n",
        "        enc4 = self.enc4(enc3)\n",
        "\n",
        "        dec1 = self.upconv1(enc4)\n",
        "        dec2 = self.upconv2(dec1 + enc3)\n",
        "        dec3 = self.upconv3(dec2 + enc2)\n",
        "\n",
        "        final = self.final(dec3 + enc1)\n",
        "\n",
        "        if final.shape[-2:] != x.shape[-2:]:\n",
        "            final = self.upsample_to_input(final)\n",
        "\n",
        "        return final"
      ],
      "metadata": {
        "id": "HN3vTspF3mWG"
      },
      "execution_count": null,
      "outputs": []
    },
    {
      "cell_type": "markdown",
      "source": [
        "# **Loss Functions**"
      ],
      "metadata": {
        "id": "9e89t2Il7nVX"
      }
    },
    {
      "cell_type": "code",
      "source": [
        "def dice_loss(pred, target, smooth=1e-6):\n",
        "    pred = torch.sigmoid(pred)\n",
        "    pred = torch.nn.functional.interpolate(pred, size=(256, 256), mode='bilinear', align_corners=True)\n",
        "    pred = pred.view(pred.size(0), -1)\n",
        "    target = target.view(target.size(0), -1)\n",
        "\n",
        "    intersection = (pred * target).sum(dim=1)\n",
        "    pred_sum = pred.sum(dim=1)\n",
        "    target_sum = target.sum(dim=1)\n",
        "\n",
        "    dice = (2. * intersection + smooth) / (pred_sum + target_sum + smooth)\n",
        "\n",
        "    return 1 - dice.mean()\n",
        "\n",
        "def iou_score(pred, target, smooth=1e-6):\n",
        "    pred = torch.sigmoid(pred)\n",
        "    pred = (pred > 0.5).float()  # Thresholding\n",
        "    intersection = (pred * target).sum(dim=(1, 2, 3))\n",
        "    union = pred.sum(dim=(1, 2, 3)) + target.sum(dim=(1, 2, 3)) - intersection\n",
        "    iou = (intersection + smooth) / (union + smooth)\n",
        "    return iou.mean()"
      ],
      "metadata": {
        "id": "XmeI4GBE3olQ"
      },
      "execution_count": null,
      "outputs": []
    },
    {
      "cell_type": "markdown",
      "source": [
        "# **Model Training**"
      ],
      "metadata": {
        "id": "5BQESu407qSL"
      }
    },
    {
      "cell_type": "code",
      "source": [
        "# Device configuration\n",
        "device = torch.device(\"cuda\" if torch.cuda.is_available() else \"cpu\")\n",
        "\n",
        "model = UNet(1, 1).to(device)\n",
        "optimizer = optim.Adam(model.parameters(), lr=0.001)\n",
        "criterion = nn.BCEWithLogitsLoss()"
      ],
      "metadata": {
        "id": "pJy0B3yr3rI8"
      },
      "execution_count": null,
      "outputs": []
    },
    {
      "cell_type": "code",
      "source": [
        "history = {\n",
        "    \"train_loss\": [],\n",
        "    \"val_loss\": [],\n",
        "    \"iou_score\": []\n",
        "}\n",
        "\n",
        "epochs = 100\n",
        "\n",
        "for epoch in range(epochs):\n",
        "    model.train()\n",
        "    running_loss = 0.0\n",
        "    for images, skeleton in tqdm(train_loader, desc=f\"Epoch {epoch+1}/{epochs}\"):\n",
        "        images, skeleton = images.to(device), skeleton.to(device)\n",
        "\n",
        "        optimizer.zero_grad()\n",
        "\n",
        "        outputs = model(images)\n",
        "\n",
        "        loss = dice_loss(outputs, skeleton)\n",
        "        loss.backward()\n",
        "        optimizer.step()\n",
        "\n",
        "        running_loss += loss.item()\n",
        "\n",
        "    avg_train_loss = running_loss / len(train_loader)\n",
        "    history[\"train_loss\"].append(avg_train_loss)\n",
        "    print(f\"Epoch {epoch+1}: Train Loss: {avg_train_loss}\")\n",
        "\n",
        "    model.eval()\n",
        "    val_loss = 0.0\n",
        "    iou = 0.0\n",
        "    with torch.no_grad():\n",
        "        for images, skeleton in val_loader:\n",
        "            images, skeleton = images.to(device), skeleton.to(device)\n",
        "            outputs = model(images)\n",
        "\n",
        "            val_loss += dice_loss(outputs, skeleton).item()\n",
        "            iou += iou_score(outputs, skeleton).item()\n",
        "\n",
        "    avg_val_loss = val_loss / len(val_loader)\n",
        "    avg_iou = iou / len(val_loader)\n",
        "    history[\"val_loss\"].append(avg_val_loss)\n",
        "    history[\"iou_score\"].append(avg_iou)\n",
        "    print(f\"Validation Loss: {avg_val_loss}, IoU Score: {avg_iou}\")"
      ],
      "metadata": {
        "colab": {
          "base_uri": "https://localhost:8080/"
        },
        "id": "yXuE5MJ63v7r",
        "outputId": "b043dedf-d9da-44bc-92e0-1606754380a6"
      },
      "execution_count": null,
      "outputs": [
        {
          "output_type": "stream",
          "name": "stderr",
          "text": [
            "Epoch 1/100: 100%|██████████| 11/11 [00:05<00:00,  2.14it/s]\n"
          ]
        },
        {
          "output_type": "stream",
          "name": "stdout",
          "text": [
            "Epoch 1: Train Loss: 0.9958207932385531\n",
            "Validation Loss: 0.9967027902603149, IoU Score: 0.004227707007278998\n"
          ]
        },
        {
          "output_type": "stream",
          "name": "stderr",
          "text": [
            "Epoch 2/100: 100%|██████████| 11/11 [00:03<00:00,  2.86it/s]\n"
          ]
        },
        {
          "output_type": "stream",
          "name": "stdout",
          "text": [
            "Epoch 2: Train Loss: 0.9941966425288807\n",
            "Validation Loss: 0.9945191740989685, IoU Score: 0.005955270336320003\n"
          ]
        },
        {
          "output_type": "stream",
          "name": "stderr",
          "text": [
            "Epoch 3/100: 100%|██████████| 11/11 [00:03<00:00,  2.94it/s]\n"
          ]
        },
        {
          "output_type": "stream",
          "name": "stdout",
          "text": [
            "Epoch 3: Train Loss: 0.9926935651085593\n",
            "Validation Loss: 0.9927881360054016, IoU Score: 0.00791117362678051\n"
          ]
        },
        {
          "output_type": "stream",
          "name": "stderr",
          "text": [
            "Epoch 4/100: 100%|██████████| 11/11 [00:03<00:00,  2.82it/s]\n"
          ]
        },
        {
          "output_type": "stream",
          "name": "stdout",
          "text": [
            "Epoch 4: Train Loss: 0.990931364622983\n",
            "Validation Loss: 0.9915246367454529, IoU Score: 0.008451831837495169\n"
          ]
        },
        {
          "output_type": "stream",
          "name": "stderr",
          "text": [
            "Epoch 5/100: 100%|██████████| 11/11 [00:03<00:00,  2.90it/s]\n"
          ]
        },
        {
          "output_type": "stream",
          "name": "stdout",
          "text": [
            "Epoch 5: Train Loss: 0.9886643561449918\n",
            "Validation Loss: 0.9881172974904379, IoU Score: 0.010193681033949057\n"
          ]
        },
        {
          "output_type": "stream",
          "name": "stderr",
          "text": [
            "Epoch 6/100: 100%|██████████| 11/11 [00:03<00:00,  2.90it/s]\n"
          ]
        },
        {
          "output_type": "stream",
          "name": "stdout",
          "text": [
            "Epoch 6: Train Loss: 0.9854945106939836\n",
            "Validation Loss: 0.9851094086964926, IoU Score: 0.022683824102083843\n"
          ]
        },
        {
          "output_type": "stream",
          "name": "stderr",
          "text": [
            "Epoch 7/100: 100%|██████████| 11/11 [00:03<00:00,  2.92it/s]\n"
          ]
        },
        {
          "output_type": "stream",
          "name": "stdout",
          "text": [
            "Epoch 7: Train Loss: 0.9772987094792452\n",
            "Validation Loss: 0.9682410756746928, IoU Score: 0.029619840284188587\n"
          ]
        },
        {
          "output_type": "stream",
          "name": "stderr",
          "text": [
            "Epoch 8/100: 100%|██████████| 11/11 [00:03<00:00,  2.89it/s]\n"
          ]
        },
        {
          "output_type": "stream",
          "name": "stdout",
          "text": [
            "Epoch 8: Train Loss: 0.9654588645154779\n",
            "Validation Loss: 0.9605986475944519, IoU Score: 0.040671673913796745\n"
          ]
        },
        {
          "output_type": "stream",
          "name": "stderr",
          "text": [
            "Epoch 9/100: 100%|██████████| 11/11 [00:04<00:00,  2.60it/s]\n"
          ]
        },
        {
          "output_type": "stream",
          "name": "stdout",
          "text": [
            "Epoch 9: Train Loss: 0.9493975043296814\n",
            "Validation Loss: 0.9568615158398946, IoU Score: 0.030928903569777805\n"
          ]
        },
        {
          "output_type": "stream",
          "name": "stderr",
          "text": [
            "Epoch 10/100: 100%|██████████| 11/11 [00:03<00:00,  2.95it/s]\n"
          ]
        },
        {
          "output_type": "stream",
          "name": "stdout",
          "text": [
            "Epoch 10: Train Loss: 0.9322178038683805\n",
            "Validation Loss: 0.9503652652104696, IoU Score: 0.02820638194680214\n"
          ]
        },
        {
          "output_type": "stream",
          "name": "stderr",
          "text": [
            "Epoch 11/100: 100%|██████████| 11/11 [00:03<00:00,  2.87it/s]\n"
          ]
        },
        {
          "output_type": "stream",
          "name": "stdout",
          "text": [
            "Epoch 11: Train Loss: 0.9211003509434786\n",
            "Validation Loss: 0.9176474014918009, IoU Score: 0.054448398451010384\n"
          ]
        },
        {
          "output_type": "stream",
          "name": "stderr",
          "text": [
            "Epoch 12/100: 100%|██████████| 11/11 [00:03<00:00,  2.85it/s]\n"
          ]
        },
        {
          "output_type": "stream",
          "name": "stdout",
          "text": [
            "Epoch 12: Train Loss: 0.9075677719983187\n",
            "Validation Loss: 0.916512131690979, IoU Score: 0.05301147699356079\n"
          ]
        },
        {
          "output_type": "stream",
          "name": "stderr",
          "text": [
            "Epoch 13/100: 100%|██████████| 11/11 [00:03<00:00,  2.89it/s]\n"
          ]
        },
        {
          "output_type": "stream",
          "name": "stdout",
          "text": [
            "Epoch 13: Train Loss: 0.8942018422213468\n",
            "Validation Loss: 0.91538139184316, IoU Score: 0.050673820078372955\n"
          ]
        },
        {
          "output_type": "stream",
          "name": "stderr",
          "text": [
            "Epoch 14/100: 100%|██████████| 11/11 [00:03<00:00,  2.90it/s]\n"
          ]
        },
        {
          "output_type": "stream",
          "name": "stdout",
          "text": [
            "Epoch 14: Train Loss: 0.8883243582465432\n",
            "Validation Loss: 0.9110798835754395, IoU Score: 0.05147389570871989\n"
          ]
        },
        {
          "output_type": "stream",
          "name": "stderr",
          "text": [
            "Epoch 15/100: 100%|██████████| 11/11 [00:04<00:00,  2.73it/s]\n"
          ]
        },
        {
          "output_type": "stream",
          "name": "stdout",
          "text": [
            "Epoch 15: Train Loss: 0.8742625550790266\n",
            "Validation Loss: 0.9279847939809164, IoU Score: 0.03855609272917112\n"
          ]
        },
        {
          "output_type": "stream",
          "name": "stderr",
          "text": [
            "Epoch 16/100: 100%|██████████| 11/11 [00:03<00:00,  2.88it/s]\n"
          ]
        },
        {
          "output_type": "stream",
          "name": "stdout",
          "text": [
            "Epoch 16: Train Loss: 0.8701675425876271\n",
            "Validation Loss: 0.9085627794265747, IoU Score: 0.05206931009888649\n"
          ]
        },
        {
          "output_type": "stream",
          "name": "stderr",
          "text": [
            "Epoch 17/100: 100%|██████████| 11/11 [00:03<00:00,  2.88it/s]\n"
          ]
        },
        {
          "output_type": "stream",
          "name": "stdout",
          "text": [
            "Epoch 17: Train Loss: 0.8628274364904924\n",
            "Validation Loss: 0.9149791797002157, IoU Score: 0.04729954650004705\n"
          ]
        },
        {
          "output_type": "stream",
          "name": "stderr",
          "text": [
            "Epoch 18/100: 100%|██████████| 11/11 [00:04<00:00,  2.73it/s]\n"
          ]
        },
        {
          "output_type": "stream",
          "name": "stdout",
          "text": [
            "Epoch 18: Train Loss: 0.874824193390933\n",
            "Validation Loss: 0.90813148021698, IoU Score: 0.05361550177137057\n"
          ]
        },
        {
          "output_type": "stream",
          "name": "stderr",
          "text": [
            "Epoch 19/100: 100%|██████████| 11/11 [00:04<00:00,  2.69it/s]\n"
          ]
        },
        {
          "output_type": "stream",
          "name": "stdout",
          "text": [
            "Epoch 19: Train Loss: 0.8584353761239485\n",
            "Validation Loss: 0.9093301296234131, IoU Score: 0.050628441075483956\n"
          ]
        },
        {
          "output_type": "stream",
          "name": "stderr",
          "text": [
            "Epoch 20/100: 100%|██████████| 11/11 [00:03<00:00,  2.85it/s]\n"
          ]
        },
        {
          "output_type": "stream",
          "name": "stdout",
          "text": [
            "Epoch 20: Train Loss: 0.8490171757611361\n",
            "Validation Loss: 0.9065550764401754, IoU Score: 0.0525515154004097\n"
          ]
        },
        {
          "output_type": "stream",
          "name": "stderr",
          "text": [
            "Epoch 21/100: 100%|██████████| 11/11 [00:03<00:00,  2.77it/s]\n"
          ]
        },
        {
          "output_type": "stream",
          "name": "stdout",
          "text": [
            "Epoch 21: Train Loss: 0.8594253442504189\n",
            "Validation Loss: 0.9098358154296875, IoU Score: 0.05150926858186722\n"
          ]
        },
        {
          "output_type": "stream",
          "name": "stderr",
          "text": [
            "Epoch 22/100: 100%|██████████| 11/11 [00:03<00:00,  2.85it/s]\n"
          ]
        },
        {
          "output_type": "stream",
          "name": "stdout",
          "text": [
            "Epoch 22: Train Loss: 0.8504705320705067\n",
            "Validation Loss: 0.9019863605499268, IoU Score: 0.05474839235345522\n"
          ]
        },
        {
          "output_type": "stream",
          "name": "stderr",
          "text": [
            "Epoch 23/100: 100%|██████████| 11/11 [00:03<00:00,  2.83it/s]\n"
          ]
        },
        {
          "output_type": "stream",
          "name": "stdout",
          "text": [
            "Epoch 23: Train Loss: 0.828850507736206\n",
            "Validation Loss: 0.9272844990094503, IoU Score: 0.03916588053107262\n"
          ]
        },
        {
          "output_type": "stream",
          "name": "stderr",
          "text": [
            "Epoch 24/100: 100%|██████████| 11/11 [00:04<00:00,  2.67it/s]\n"
          ]
        },
        {
          "output_type": "stream",
          "name": "stdout",
          "text": [
            "Epoch 24: Train Loss: 0.8290439681573347\n",
            "Validation Loss: 0.9259182214736938, IoU Score: 0.03923844794432322\n"
          ]
        },
        {
          "output_type": "stream",
          "name": "stderr",
          "text": [
            "Epoch 25/100: 100%|██████████| 11/11 [00:03<00:00,  2.80it/s]\n"
          ]
        },
        {
          "output_type": "stream",
          "name": "stdout",
          "text": [
            "Epoch 25: Train Loss: 0.8149273232980208\n",
            "Validation Loss: 0.9181119998296102, IoU Score: 0.04531244561076164\n"
          ]
        },
        {
          "output_type": "stream",
          "name": "stderr",
          "text": [
            "Epoch 26/100: 100%|██████████| 11/11 [00:03<00:00,  2.82it/s]\n"
          ]
        },
        {
          "output_type": "stream",
          "name": "stdout",
          "text": [
            "Epoch 26: Train Loss: 0.8036694147370078\n",
            "Validation Loss: 0.9183022777239481, IoU Score: 0.04258685062328974\n"
          ]
        },
        {
          "output_type": "stream",
          "name": "stderr",
          "text": [
            "Epoch 27/100: 100%|██████████| 11/11 [00:04<00:00,  2.75it/s]\n"
          ]
        },
        {
          "output_type": "stream",
          "name": "stdout",
          "text": [
            "Epoch 27: Train Loss: 0.80618971044367\n",
            "Validation Loss: 0.9093573888142904, IoU Score: 0.04805165777603785\n"
          ]
        },
        {
          "output_type": "stream",
          "name": "stderr",
          "text": [
            "Epoch 28/100: 100%|██████████| 11/11 [00:03<00:00,  2.79it/s]\n"
          ]
        },
        {
          "output_type": "stream",
          "name": "stdout",
          "text": [
            "Epoch 28: Train Loss: 0.7972792061892423\n",
            "Validation Loss: 0.9132187962532043, IoU Score: 0.0449704093237718\n"
          ]
        },
        {
          "output_type": "stream",
          "name": "stderr",
          "text": [
            "Epoch 29/100: 100%|██████████| 11/11 [00:03<00:00,  2.78it/s]\n"
          ]
        },
        {
          "output_type": "stream",
          "name": "stdout",
          "text": [
            "Epoch 29: Train Loss: 0.7922726219350641\n",
            "Validation Loss: 0.892838696638743, IoU Score: 0.059065392861763634\n"
          ]
        },
        {
          "output_type": "stream",
          "name": "stderr",
          "text": [
            "Epoch 30/100: 100%|██████████| 11/11 [00:04<00:00,  2.25it/s]\n"
          ]
        },
        {
          "output_type": "stream",
          "name": "stdout",
          "text": [
            "Epoch 30: Train Loss: 0.7860149253498424\n",
            "Validation Loss: 0.9544499516487122, IoU Score: 0.021861712137858074\n"
          ]
        },
        {
          "output_type": "stream",
          "name": "stderr",
          "text": [
            "Epoch 31/100: 100%|██████████| 11/11 [00:03<00:00,  2.80it/s]\n"
          ]
        },
        {
          "output_type": "stream",
          "name": "stdout",
          "text": [
            "Epoch 31: Train Loss: 0.7942176352847706\n",
            "Validation Loss: 0.8905553619066874, IoU Score: 0.06196333095431328\n"
          ]
        },
        {
          "output_type": "stream",
          "name": "stderr",
          "text": [
            "Epoch 32/100: 100%|██████████| 11/11 [00:03<00:00,  2.80it/s]\n"
          ]
        },
        {
          "output_type": "stream",
          "name": "stdout",
          "text": [
            "Epoch 32: Train Loss: 0.7706737409938466\n",
            "Validation Loss: 0.9041172464688619, IoU Score: 0.053636653969685234\n"
          ]
        },
        {
          "output_type": "stream",
          "name": "stderr",
          "text": [
            "Epoch 33/100: 100%|██████████| 11/11 [00:04<00:00,  2.32it/s]\n"
          ]
        },
        {
          "output_type": "stream",
          "name": "stdout",
          "text": [
            "Epoch 33: Train Loss: 0.7678232301365245\n",
            "Validation Loss: 0.8972050944964091, IoU Score: 0.05689487854639689\n"
          ]
        },
        {
          "output_type": "stream",
          "name": "stderr",
          "text": [
            "Epoch 34/100: 100%|██████████| 11/11 [00:03<00:00,  2.81it/s]\n"
          ]
        },
        {
          "output_type": "stream",
          "name": "stdout",
          "text": [
            "Epoch 34: Train Loss: 0.7658539793708108\n",
            "Validation Loss: 0.8983235756556193, IoU Score: 0.055123565097649894\n"
          ]
        },
        {
          "output_type": "stream",
          "name": "stderr",
          "text": [
            "Epoch 35/100: 100%|██████████| 11/11 [00:04<00:00,  2.63it/s]\n"
          ]
        },
        {
          "output_type": "stream",
          "name": "stdout",
          "text": [
            "Epoch 35: Train Loss: 0.7576573545282538\n",
            "Validation Loss: 0.9210029641787211, IoU Score: 0.04090582331021627\n"
          ]
        },
        {
          "output_type": "stream",
          "name": "stderr",
          "text": [
            "Epoch 36/100: 100%|██████████| 11/11 [00:03<00:00,  2.79it/s]\n"
          ]
        },
        {
          "output_type": "stream",
          "name": "stdout",
          "text": [
            "Epoch 36: Train Loss: 0.7350574840198864\n",
            "Validation Loss: 0.9010101358095804, IoU Score: 0.05368746196230253\n"
          ]
        },
        {
          "output_type": "stream",
          "name": "stderr",
          "text": [
            "Epoch 37/100: 100%|██████████| 11/11 [00:03<00:00,  2.81it/s]\n"
          ]
        },
        {
          "output_type": "stream",
          "name": "stdout",
          "text": [
            "Epoch 37: Train Loss: 0.735307211225683\n",
            "Validation Loss: 0.9108257095019022, IoU Score: 0.047019372383753456\n"
          ]
        },
        {
          "output_type": "stream",
          "name": "stderr",
          "text": [
            "Epoch 38/100: 100%|██████████| 11/11 [00:03<00:00,  2.84it/s]\n"
          ]
        },
        {
          "output_type": "stream",
          "name": "stdout",
          "text": [
            "Epoch 38: Train Loss: 0.7479331005703319\n",
            "Validation Loss: 0.9029994209607443, IoU Score: 0.052216206987698875\n"
          ]
        },
        {
          "output_type": "stream",
          "name": "stderr",
          "text": [
            "Epoch 39/100: 100%|██████████| 11/11 [00:03<00:00,  2.78it/s]\n"
          ]
        },
        {
          "output_type": "stream",
          "name": "stdout",
          "text": [
            "Epoch 39: Train Loss: 0.7345413023775275\n",
            "Validation Loss: 0.9112231731414795, IoU Score: 0.048425376415252686\n"
          ]
        },
        {
          "output_type": "stream",
          "name": "stderr",
          "text": [
            "Epoch 40/100: 100%|██████████| 11/11 [00:04<00:00,  2.65it/s]\n"
          ]
        },
        {
          "output_type": "stream",
          "name": "stdout",
          "text": [
            "Epoch 40: Train Loss: 0.7277371720834211\n",
            "Validation Loss: 0.9048658609390259, IoU Score: 0.052554683138926826\n"
          ]
        },
        {
          "output_type": "stream",
          "name": "stderr",
          "text": [
            "Epoch 41/100: 100%|██████████| 11/11 [00:03<00:00,  2.82it/s]\n"
          ]
        },
        {
          "output_type": "stream",
          "name": "stdout",
          "text": [
            "Epoch 41: Train Loss: 0.7136273871768605\n",
            "Validation Loss: 0.9122271339098612, IoU Score: 0.04842484990755717\n"
          ]
        },
        {
          "output_type": "stream",
          "name": "stderr",
          "text": [
            "Epoch 42/100: 100%|██████████| 11/11 [00:04<00:00,  2.71it/s]\n"
          ]
        },
        {
          "output_type": "stream",
          "name": "stdout",
          "text": [
            "Epoch 42: Train Loss: 0.7333309867165305\n",
            "Validation Loss: 0.9193574786186218, IoU Score: 0.04300296182433764\n"
          ]
        },
        {
          "output_type": "stream",
          "name": "stderr",
          "text": [
            "Epoch 43/100: 100%|██████████| 11/11 [00:03<00:00,  2.82it/s]\n"
          ]
        },
        {
          "output_type": "stream",
          "name": "stdout",
          "text": [
            "Epoch 43: Train Loss: 0.7249631935899908\n",
            "Validation Loss: 0.8995188474655151, IoU Score: 0.05506399149696032\n"
          ]
        },
        {
          "output_type": "stream",
          "name": "stderr",
          "text": [
            "Epoch 44/100: 100%|██████████| 11/11 [00:03<00:00,  2.81it/s]\n"
          ]
        },
        {
          "output_type": "stream",
          "name": "stdout",
          "text": [
            "Epoch 44: Train Loss: 0.7101890878243879\n",
            "Validation Loss: 0.9202618400255839, IoU Score: 0.042434290051460266\n"
          ]
        },
        {
          "output_type": "stream",
          "name": "stderr",
          "text": [
            "Epoch 45/100: 100%|██████████| 11/11 [00:04<00:00,  2.52it/s]\n"
          ]
        },
        {
          "output_type": "stream",
          "name": "stdout",
          "text": [
            "Epoch 45: Train Loss: 0.7101339372721586\n",
            "Validation Loss: 0.9167984326680502, IoU Score: 0.04692474380135536\n"
          ]
        },
        {
          "output_type": "stream",
          "name": "stderr",
          "text": [
            "Epoch 46/100: 100%|██████████| 11/11 [00:03<00:00,  2.77it/s]\n"
          ]
        },
        {
          "output_type": "stream",
          "name": "stdout",
          "text": [
            "Epoch 46: Train Loss: 0.7110982266339388\n",
            "Validation Loss: 0.9084168871243795, IoU Score: 0.05102756495277087\n"
          ]
        },
        {
          "output_type": "stream",
          "name": "stderr",
          "text": [
            "Epoch 47/100: 100%|██████████| 11/11 [00:03<00:00,  2.82it/s]\n"
          ]
        },
        {
          "output_type": "stream",
          "name": "stdout",
          "text": [
            "Epoch 47: Train Loss: 0.7034222700379111\n",
            "Validation Loss: 0.9049836993217468, IoU Score: 0.05124263217051824\n"
          ]
        },
        {
          "output_type": "stream",
          "name": "stderr",
          "text": [
            "Epoch 48/100: 100%|██████████| 11/11 [00:04<00:00,  2.72it/s]\n"
          ]
        },
        {
          "output_type": "stream",
          "name": "stdout",
          "text": [
            "Epoch 48: Train Loss: 0.7022011442617937\n",
            "Validation Loss: 0.8989807566006979, IoU Score: 0.054433693488438926\n"
          ]
        },
        {
          "output_type": "stream",
          "name": "stderr",
          "text": [
            "Epoch 49/100: 100%|██████████| 11/11 [00:03<00:00,  2.77it/s]\n"
          ]
        },
        {
          "output_type": "stream",
          "name": "stdout",
          "text": [
            "Epoch 49: Train Loss: 0.6922001080079512\n",
            "Validation Loss: 0.9241140087445577, IoU Score: 0.03922748068968455\n"
          ]
        },
        {
          "output_type": "stream",
          "name": "stderr",
          "text": [
            "Epoch 50/100: 100%|██████████| 11/11 [00:03<00:00,  2.76it/s]\n"
          ]
        },
        {
          "output_type": "stream",
          "name": "stdout",
          "text": [
            "Epoch 50: Train Loss: 0.6872734535824169\n",
            "Validation Loss: 0.9071316719055176, IoU Score: 0.049123273541529976\n"
          ]
        },
        {
          "output_type": "stream",
          "name": "stderr",
          "text": [
            "Epoch 51/100: 100%|██████████| 11/11 [00:04<00:00,  2.72it/s]\n"
          ]
        },
        {
          "output_type": "stream",
          "name": "stdout",
          "text": [
            "Epoch 51: Train Loss: 0.6875339367172935\n",
            "Validation Loss: 0.9113855163256327, IoU Score: 0.0467441293100516\n"
          ]
        },
        {
          "output_type": "stream",
          "name": "stderr",
          "text": [
            "Epoch 52/100: 100%|██████████| 11/11 [00:04<00:00,  2.75it/s]\n"
          ]
        },
        {
          "output_type": "stream",
          "name": "stdout",
          "text": [
            "Epoch 52: Train Loss: 0.6701793941584501\n",
            "Validation Loss: 0.9038594166437784, IoU Score: 0.05260154729088148\n"
          ]
        },
        {
          "output_type": "stream",
          "name": "stderr",
          "text": [
            "Epoch 53/100: 100%|██████████| 11/11 [00:03<00:00,  2.82it/s]\n"
          ]
        },
        {
          "output_type": "stream",
          "name": "stdout",
          "text": [
            "Epoch 53: Train Loss: 0.6778037006204779\n",
            "Validation Loss: 0.9184663494427999, IoU Score: 0.04291163260738055\n"
          ]
        },
        {
          "output_type": "stream",
          "name": "stderr",
          "text": [
            "Epoch 54/100: 100%|██████████| 11/11 [00:04<00:00,  2.72it/s]\n"
          ]
        },
        {
          "output_type": "stream",
          "name": "stdout",
          "text": [
            "Epoch 54: Train Loss: 0.6740320704200051\n",
            "Validation Loss: 0.9041977127393087, IoU Score: 0.052190164724985756\n"
          ]
        },
        {
          "output_type": "stream",
          "name": "stderr",
          "text": [
            "Epoch 55/100: 100%|██████████| 11/11 [00:04<00:00,  2.59it/s]\n"
          ]
        },
        {
          "output_type": "stream",
          "name": "stdout",
          "text": [
            "Epoch 55: Train Loss: 0.6634913737123663\n",
            "Validation Loss: 0.9193455179532369, IoU Score: 0.0431586392223835\n"
          ]
        },
        {
          "output_type": "stream",
          "name": "stderr",
          "text": [
            "Epoch 56/100: 100%|██████████| 11/11 [00:03<00:00,  2.81it/s]\n"
          ]
        },
        {
          "output_type": "stream",
          "name": "stdout",
          "text": [
            "Epoch 56: Train Loss: 0.674744801087813\n",
            "Validation Loss: 0.9003403186798096, IoU Score: 0.05439015353719393\n"
          ]
        },
        {
          "output_type": "stream",
          "name": "stderr",
          "text": [
            "Epoch 57/100: 100%|██████████| 11/11 [00:04<00:00,  2.72it/s]\n"
          ]
        },
        {
          "output_type": "stream",
          "name": "stdout",
          "text": [
            "Epoch 57: Train Loss: 0.6721015897664157\n",
            "Validation Loss: 0.9317331910133362, IoU Score: 0.03490213677287102\n"
          ]
        },
        {
          "output_type": "stream",
          "name": "stderr",
          "text": [
            "Epoch 58/100: 100%|██████████| 11/11 [00:04<00:00,  2.75it/s]\n"
          ]
        },
        {
          "output_type": "stream",
          "name": "stdout",
          "text": [
            "Epoch 58: Train Loss: 0.6635643406347795\n",
            "Validation Loss: 0.9019235769907633, IoU Score: 0.0533231757581234\n"
          ]
        },
        {
          "output_type": "stream",
          "name": "stderr",
          "text": [
            "Epoch 59/100: 100%|██████████| 11/11 [00:03<00:00,  2.80it/s]\n"
          ]
        },
        {
          "output_type": "stream",
          "name": "stdout",
          "text": [
            "Epoch 59: Train Loss: 0.6558747887611389\n",
            "Validation Loss: 0.9059085051218668, IoU Score: 0.051123328506946564\n"
          ]
        },
        {
          "output_type": "stream",
          "name": "stderr",
          "text": [
            "Epoch 60/100: 100%|██████████| 11/11 [00:04<00:00,  2.53it/s]\n"
          ]
        },
        {
          "output_type": "stream",
          "name": "stdout",
          "text": [
            "Epoch 60: Train Loss: 0.6701324094425548\n",
            "Validation Loss: 0.9123211900393168, IoU Score: 0.04642610624432564\n"
          ]
        },
        {
          "output_type": "stream",
          "name": "stderr",
          "text": [
            "Epoch 61/100: 100%|██████████| 11/11 [00:03<00:00,  2.79it/s]\n"
          ]
        },
        {
          "output_type": "stream",
          "name": "stdout",
          "text": [
            "Epoch 61: Train Loss: 0.6721054857427423\n",
            "Validation Loss: 0.9198059638341268, IoU Score: 0.04211171716451645\n"
          ]
        },
        {
          "output_type": "stream",
          "name": "stderr",
          "text": [
            "Epoch 62/100: 100%|██████████| 11/11 [00:03<00:00,  2.81it/s]\n"
          ]
        },
        {
          "output_type": "stream",
          "name": "stdout",
          "text": [
            "Epoch 62: Train Loss: 0.6413725885477933\n",
            "Validation Loss: 0.9090698758761088, IoU Score: 0.05019242689013481\n"
          ]
        },
        {
          "output_type": "stream",
          "name": "stderr",
          "text": [
            "Epoch 63/100: 100%|██████████| 11/11 [00:04<00:00,  2.72it/s]\n"
          ]
        },
        {
          "output_type": "stream",
          "name": "stdout",
          "text": [
            "Epoch 63: Train Loss: 0.7145196036858992\n",
            "Validation Loss: 0.9163989424705505, IoU Score: 0.04315036286910375\n"
          ]
        },
        {
          "output_type": "stream",
          "name": "stderr",
          "text": [
            "Epoch 64/100: 100%|██████████| 11/11 [00:03<00:00,  2.80it/s]\n"
          ]
        },
        {
          "output_type": "stream",
          "name": "stdout",
          "text": [
            "Epoch 64: Train Loss: 0.699903894554485\n",
            "Validation Loss: 0.9144599040349325, IoU Score: 0.045080327739318214\n"
          ]
        },
        {
          "output_type": "stream",
          "name": "stderr",
          "text": [
            "Epoch 65/100: 100%|██████████| 11/11 [00:03<00:00,  2.77it/s]\n"
          ]
        },
        {
          "output_type": "stream",
          "name": "stdout",
          "text": [
            "Epoch 65: Train Loss: 0.6818084500052712\n",
            "Validation Loss: 0.93724658091863, IoU Score: 0.03168222556511561\n"
          ]
        },
        {
          "output_type": "stream",
          "name": "stderr",
          "text": [
            "Epoch 66/100: 100%|██████████| 11/11 [00:04<00:00,  2.71it/s]\n"
          ]
        },
        {
          "output_type": "stream",
          "name": "stdout",
          "text": [
            "Epoch 66: Train Loss: 0.6702463247559287\n",
            "Validation Loss: 0.9133072892824808, IoU Score: 0.04657410581906637\n"
          ]
        },
        {
          "output_type": "stream",
          "name": "stderr",
          "text": [
            "Epoch 67/100: 100%|██████████| 11/11 [00:03<00:00,  2.79it/s]\n"
          ]
        },
        {
          "output_type": "stream",
          "name": "stdout",
          "text": [
            "Epoch 67: Train Loss: 0.649891961704601\n",
            "Validation Loss: 0.9103488326072693, IoU Score: 0.04681504021088282\n"
          ]
        },
        {
          "output_type": "stream",
          "name": "stderr",
          "text": [
            "Epoch 68/100: 100%|██████████| 11/11 [00:03<00:00,  2.83it/s]\n"
          ]
        },
        {
          "output_type": "stream",
          "name": "stdout",
          "text": [
            "Epoch 68: Train Loss: 0.6434289325367321\n",
            "Validation Loss: 0.9068427681922913, IoU Score: 0.05050135403871536\n"
          ]
        },
        {
          "output_type": "stream",
          "name": "stderr",
          "text": [
            "Epoch 69/100: 100%|██████████| 11/11 [00:04<00:00,  2.74it/s]\n"
          ]
        },
        {
          "output_type": "stream",
          "name": "stdout",
          "text": [
            "Epoch 69: Train Loss: 0.639771434393796\n",
            "Validation Loss: 0.9041537642478943, IoU Score: 0.05145654330650965\n"
          ]
        },
        {
          "output_type": "stream",
          "name": "stderr",
          "text": [
            "Epoch 70/100: 100%|██████████| 11/11 [00:04<00:00,  2.63it/s]\n"
          ]
        },
        {
          "output_type": "stream",
          "name": "stdout",
          "text": [
            "Epoch 70: Train Loss: 0.637965901331468\n",
            "Validation Loss: 0.9032684167226156, IoU Score: 0.05281449854373932\n"
          ]
        },
        {
          "output_type": "stream",
          "name": "stderr",
          "text": [
            "Epoch 71/100: 100%|██████████| 11/11 [00:03<00:00,  2.82it/s]\n"
          ]
        },
        {
          "output_type": "stream",
          "name": "stdout",
          "text": [
            "Epoch 71: Train Loss: 0.6358690641143105\n",
            "Validation Loss: 0.9103945096333822, IoU Score: 0.04674174884955088\n"
          ]
        },
        {
          "output_type": "stream",
          "name": "stderr",
          "text": [
            "Epoch 72/100: 100%|██████████| 11/11 [00:04<00:00,  2.72it/s]\n"
          ]
        },
        {
          "output_type": "stream",
          "name": "stdout",
          "text": [
            "Epoch 72: Train Loss: 0.6292281313375994\n",
            "Validation Loss: 0.9169471859931946, IoU Score: 0.04649214322368304\n"
          ]
        },
        {
          "output_type": "stream",
          "name": "stderr",
          "text": [
            "Epoch 73/100: 100%|██████████| 11/11 [00:04<00:00,  2.71it/s]\n"
          ]
        },
        {
          "output_type": "stream",
          "name": "stdout",
          "text": [
            "Epoch 73: Train Loss: 0.6354949582706798\n",
            "Validation Loss: 0.9069610039393107, IoU Score: 0.05110820631186167\n"
          ]
        },
        {
          "output_type": "stream",
          "name": "stderr",
          "text": [
            "Epoch 74/100: 100%|██████████| 11/11 [00:03<00:00,  2.81it/s]\n"
          ]
        },
        {
          "output_type": "stream",
          "name": "stdout",
          "text": [
            "Epoch 74: Train Loss: 0.6333136233416471\n",
            "Validation Loss: 0.9013368089993795, IoU Score: 0.054502056290706\n"
          ]
        },
        {
          "output_type": "stream",
          "name": "stderr",
          "text": [
            "Epoch 75/100: 100%|██████████| 11/11 [00:04<00:00,  2.70it/s]\n"
          ]
        },
        {
          "output_type": "stream",
          "name": "stdout",
          "text": [
            "Epoch 75: Train Loss: 0.6301695812832225\n",
            "Validation Loss: 0.9244250853856405, IoU Score: 0.03804739067951838\n"
          ]
        },
        {
          "output_type": "stream",
          "name": "stderr",
          "text": [
            "Epoch 76/100: 100%|██████████| 11/11 [00:04<00:00,  2.70it/s]\n"
          ]
        },
        {
          "output_type": "stream",
          "name": "stdout",
          "text": [
            "Epoch 76: Train Loss: 0.6245249130509116\n",
            "Validation Loss: 0.9125476280848185, IoU Score: 0.04546597848335902\n"
          ]
        },
        {
          "output_type": "stream",
          "name": "stderr",
          "text": [
            "Epoch 77/100: 100%|██████████| 11/11 [00:03<00:00,  2.75it/s]\n"
          ]
        },
        {
          "output_type": "stream",
          "name": "stdout",
          "text": [
            "Epoch 77: Train Loss: 0.6210281198674982\n",
            "Validation Loss: 0.912907083829244, IoU Score: 0.047402391831080117\n"
          ]
        },
        {
          "output_type": "stream",
          "name": "stderr",
          "text": [
            "Epoch 78/100: 100%|██████████| 11/11 [00:03<00:00,  2.76it/s]\n"
          ]
        },
        {
          "output_type": "stream",
          "name": "stdout",
          "text": [
            "Epoch 78: Train Loss: 0.6224074526266619\n",
            "Validation Loss: 0.9047180016835531, IoU Score: 0.052060638864835106\n"
          ]
        },
        {
          "output_type": "stream",
          "name": "stderr",
          "text": [
            "Epoch 79/100: 100%|██████████| 11/11 [00:04<00:00,  2.73it/s]\n"
          ]
        },
        {
          "output_type": "stream",
          "name": "stdout",
          "text": [
            "Epoch 79: Train Loss: 0.6283171502026644\n",
            "Validation Loss: 0.8966034849484762, IoU Score: 0.05682825297117233\n"
          ]
        },
        {
          "output_type": "stream",
          "name": "stderr",
          "text": [
            "Epoch 80/100: 100%|██████████| 11/11 [00:03<00:00,  2.78it/s]\n"
          ]
        },
        {
          "output_type": "stream",
          "name": "stdout",
          "text": [
            "Epoch 80: Train Loss: 0.62842872467908\n",
            "Validation Loss: 0.9029748837153116, IoU Score: 0.05216852327187856\n"
          ]
        },
        {
          "output_type": "stream",
          "name": "stderr",
          "text": [
            "Epoch 81/100: 100%|██████████| 11/11 [00:03<00:00,  2.76it/s]\n"
          ]
        },
        {
          "output_type": "stream",
          "name": "stdout",
          "text": [
            "Epoch 81: Train Loss: 0.6212830543518066\n",
            "Validation Loss: 0.9008139769236246, IoU Score: 0.05529132733742396\n"
          ]
        },
        {
          "output_type": "stream",
          "name": "stderr",
          "text": [
            "Epoch 82/100: 100%|██████████| 11/11 [00:04<00:00,  2.75it/s]\n"
          ]
        },
        {
          "output_type": "stream",
          "name": "stdout",
          "text": [
            "Epoch 82: Train Loss: 0.6182100339369341\n",
            "Validation Loss: 0.9088696042696635, IoU Score: 0.05182730406522751\n"
          ]
        },
        {
          "output_type": "stream",
          "name": "stderr",
          "text": [
            "Epoch 83/100: 100%|██████████| 11/11 [00:03<00:00,  2.82it/s]\n"
          ]
        },
        {
          "output_type": "stream",
          "name": "stdout",
          "text": [
            "Epoch 83: Train Loss: 0.6122179302302274\n",
            "Validation Loss: 0.9028940399487814, IoU Score: 0.05255271246035894\n"
          ]
        },
        {
          "output_type": "stream",
          "name": "stderr",
          "text": [
            "Epoch 84/100: 100%|██████████| 11/11 [00:05<00:00,  2.18it/s]\n"
          ]
        },
        {
          "output_type": "stream",
          "name": "stdout",
          "text": [
            "Epoch 84: Train Loss: 0.6177288727326826\n",
            "Validation Loss: 0.9206246733665466, IoU Score: 0.043169472366571426\n"
          ]
        },
        {
          "output_type": "stream",
          "name": "stderr",
          "text": [
            "Epoch 85/100: 100%|██████████| 11/11 [00:03<00:00,  2.76it/s]\n"
          ]
        },
        {
          "output_type": "stream",
          "name": "stdout",
          "text": [
            "Epoch 85: Train Loss: 0.621727938001806\n",
            "Validation Loss: 0.9206674695014954, IoU Score: 0.04108047361175219\n"
          ]
        },
        {
          "output_type": "stream",
          "name": "stderr",
          "text": [
            "Epoch 86/100: 100%|██████████| 11/11 [00:03<00:00,  2.81it/s]\n"
          ]
        },
        {
          "output_type": "stream",
          "name": "stdout",
          "text": [
            "Epoch 86: Train Loss: 0.6230412233959545\n",
            "Validation Loss: 0.9084368546803793, IoU Score: 0.04873029639323553\n"
          ]
        },
        {
          "output_type": "stream",
          "name": "stderr",
          "text": [
            "Epoch 87/100: 100%|██████████| 11/11 [00:04<00:00,  2.71it/s]\n"
          ]
        },
        {
          "output_type": "stream",
          "name": "stdout",
          "text": [
            "Epoch 87: Train Loss: 0.6177800839597528\n",
            "Validation Loss: 0.9173213243484497, IoU Score: 0.04497022554278374\n"
          ]
        },
        {
          "output_type": "stream",
          "name": "stderr",
          "text": [
            "Epoch 88/100: 100%|██████████| 11/11 [00:03<00:00,  2.79it/s]\n"
          ]
        },
        {
          "output_type": "stream",
          "name": "stdout",
          "text": [
            "Epoch 88: Train Loss: 0.6044975844296542\n",
            "Validation Loss: 0.9116575717926025, IoU Score: 0.046348253885904946\n"
          ]
        },
        {
          "output_type": "stream",
          "name": "stderr",
          "text": [
            "Epoch 89/100: 100%|██████████| 11/11 [00:03<00:00,  2.84it/s]\n"
          ]
        },
        {
          "output_type": "stream",
          "name": "stdout",
          "text": [
            "Epoch 89: Train Loss: 0.5992666808041659\n",
            "Validation Loss: 0.9171250065167745, IoU Score: 0.04427188138167063\n"
          ]
        },
        {
          "output_type": "stream",
          "name": "stderr",
          "text": [
            "Epoch 90/100: 100%|██████████| 11/11 [00:04<00:00,  2.63it/s]\n"
          ]
        },
        {
          "output_type": "stream",
          "name": "stdout",
          "text": [
            "Epoch 90: Train Loss: 0.6037001338872042\n",
            "Validation Loss: 0.9193801482518514, IoU Score: 0.041478815178076424\n"
          ]
        },
        {
          "output_type": "stream",
          "name": "stderr",
          "text": [
            "Epoch 91/100: 100%|██████████| 11/11 [00:03<00:00,  2.80it/s]\n"
          ]
        },
        {
          "output_type": "stream",
          "name": "stdout",
          "text": [
            "Epoch 91: Train Loss: 0.6004840569062666\n",
            "Validation Loss: 0.9196802973747253, IoU Score: 0.043923849860827126\n"
          ]
        },
        {
          "output_type": "stream",
          "name": "stderr",
          "text": [
            "Epoch 92/100: 100%|██████████| 11/11 [00:03<00:00,  2.78it/s]\n"
          ]
        },
        {
          "output_type": "stream",
          "name": "stdout",
          "text": [
            "Epoch 92: Train Loss: 0.6078036319125782\n",
            "Validation Loss: 0.9217573801676432, IoU Score: 0.041816910107930504\n"
          ]
        },
        {
          "output_type": "stream",
          "name": "stderr",
          "text": [
            "Epoch 93/100: 100%|██████████| 11/11 [00:04<00:00,  2.73it/s]\n"
          ]
        },
        {
          "output_type": "stream",
          "name": "stdout",
          "text": [
            "Epoch 93: Train Loss: 0.6013050241903826\n",
            "Validation Loss: 0.9138418436050415, IoU Score: 0.04683218648036321\n"
          ]
        },
        {
          "output_type": "stream",
          "name": "stderr",
          "text": [
            "Epoch 94/100: 100%|██████████| 11/11 [00:04<00:00,  2.72it/s]\n"
          ]
        },
        {
          "output_type": "stream",
          "name": "stdout",
          "text": [
            "Epoch 94: Train Loss: 0.6010923168875955\n",
            "Validation Loss: 0.9116920232772827, IoU Score: 0.04859675342837969\n"
          ]
        },
        {
          "output_type": "stream",
          "name": "stderr",
          "text": [
            "Epoch 95/100: 100%|██████████| 11/11 [00:03<00:00,  2.78it/s]\n"
          ]
        },
        {
          "output_type": "stream",
          "name": "stdout",
          "text": [
            "Epoch 95: Train Loss: 0.5979219620878046\n",
            "Validation Loss: 0.911362906297048, IoU Score: 0.0485017883280913\n"
          ]
        },
        {
          "output_type": "stream",
          "name": "stderr",
          "text": [
            "Epoch 96/100: 100%|██████████| 11/11 [00:04<00:00,  2.52it/s]\n"
          ]
        },
        {
          "output_type": "stream",
          "name": "stdout",
          "text": [
            "Epoch 96: Train Loss: 0.5925479314543984\n",
            "Validation Loss: 0.9150850176811218, IoU Score: 0.04339239994684855\n"
          ]
        },
        {
          "output_type": "stream",
          "name": "stderr",
          "text": [
            "Epoch 97/100: 100%|██████████| 11/11 [00:03<00:00,  2.80it/s]\n"
          ]
        },
        {
          "output_type": "stream",
          "name": "stdout",
          "text": [
            "Epoch 97: Train Loss: 0.5969319560311057\n",
            "Validation Loss: 0.9144464532534281, IoU Score: 0.04436439027388891\n"
          ]
        },
        {
          "output_type": "stream",
          "name": "stderr",
          "text": [
            "Epoch 98/100: 100%|██████████| 11/11 [00:03<00:00,  2.80it/s]\n"
          ]
        },
        {
          "output_type": "stream",
          "name": "stdout",
          "text": [
            "Epoch 98: Train Loss: 0.5915561643513766\n",
            "Validation Loss: 0.9221668044726054, IoU Score: 0.040342157085736595\n"
          ]
        },
        {
          "output_type": "stream",
          "name": "stderr",
          "text": [
            "Epoch 99/100: 100%|██████████| 11/11 [00:04<00:00,  2.69it/s]\n"
          ]
        },
        {
          "output_type": "stream",
          "name": "stdout",
          "text": [
            "Epoch 99: Train Loss: 0.602323748848655\n",
            "Validation Loss: 0.9214988350868225, IoU Score: 0.042537314196427665\n"
          ]
        },
        {
          "output_type": "stream",
          "name": "stderr",
          "text": [
            "Epoch 100/100: 100%|██████████| 11/11 [00:04<00:00,  2.62it/s]\n"
          ]
        },
        {
          "output_type": "stream",
          "name": "stdout",
          "text": [
            "Epoch 100: Train Loss: 0.599741664799777\n",
            "Validation Loss: 0.9192881981531779, IoU Score: 0.04250108326474825\n"
          ]
        }
      ]
    },
    {
      "cell_type": "markdown",
      "source": [
        "## *Save the Model & Training History*"
      ],
      "metadata": {
        "id": "A_doDEuGKImg"
      }
    },
    {
      "cell_type": "code",
      "source": [
        "# Define the model save path\n",
        "model_save_dir = \"/content/drive/MyDrive/Skeleton_Trained_Model_2D\"\n",
        "os.makedirs(model_save_dir, exist_ok=True)\n",
        "\n",
        "# Save the model\n",
        "def save_model(model, model_save_dir):\n",
        "    model_path = os.path.join(model_save_dir, \"model.pth\")\n",
        "    torch.save(model.state_dict(), model_path)\n",
        "    print(f\"Model saved at {model_path}\")\n",
        "\n",
        "# Call the function to save the model\n",
        "save_model(model, model_save_dir)"
      ],
      "metadata": {
        "colab": {
          "base_uri": "https://localhost:8080/"
        },
        "id": "LbDEh-DDIRie",
        "outputId": "8080b3ee-ed70-43fb-d871-9248b85b2054"
      },
      "execution_count": null,
      "outputs": [
        {
          "output_type": "stream",
          "name": "stdout",
          "text": [
            "Model saved at /content/drive/MyDrive/Skeleton_Trained_Model_2D/model.pth\n"
          ]
        }
      ]
    },
    {
      "cell_type": "code",
      "source": [
        "import pickle\n",
        "\n",
        "# Save the training history (as a pickle file)\n",
        "history_path = os.path.join(model_save_dir, \"history.pkl\")\n",
        "with open(history_path, 'wb') as history_file:\n",
        "    pickle.dump(history, history_file)\n",
        "print(f\"History saved at {history_path}\")"
      ],
      "metadata": {
        "colab": {
          "base_uri": "https://localhost:8080/"
        },
        "id": "LqGOYyVWK0fA",
        "outputId": "fce22098-89fe-4d20-be4e-9d1676a80330"
      },
      "execution_count": null,
      "outputs": [
        {
          "output_type": "stream",
          "name": "stdout",
          "text": [
            "History saved at /content/drive/MyDrive/Skeleton_Trained_Model_2D/history.pkl\n"
          ]
        }
      ]
    },
    {
      "cell_type": "markdown",
      "source": [
        "## *Load the Model & Training History*"
      ],
      "metadata": {
        "id": "Tkaim8FfKQ2W"
      }
    },
    {
      "cell_type": "code",
      "source": [
        "# Define the model instance\n",
        "model = UNet(in_channels=1, out_channels=1)  # Example for input RGB images and binary segmentation output\n",
        "model.load_state_dict(torch.load(model_save_dir+\"/model.pth\"))\n",
        "\n",
        "# If using GPU, move the model to the correct device (e.g., CUDA)\n",
        "device = torch.device(\"cuda\" if torch.cuda.is_available() else \"cpu\")\n",
        "model.to(device)"
      ],
      "metadata": {
        "id": "wQ8foH-XKSvC"
      },
      "execution_count": null,
      "outputs": []
    },
    {
      "cell_type": "code",
      "source": [
        "# Load the history\n",
        "with open(os.path.join(model_save_dir, \"history.pkl\"), 'rb') as history_file:\n",
        "    history = pickle.load(history_file)\n",
        "\n",
        "print(\"Model and history loaded successfully!\")"
      ],
      "metadata": {
        "id": "FwKDLtnELEfS"
      },
      "execution_count": null,
      "outputs": []
    },
    {
      "cell_type": "markdown",
      "source": [
        "## *Visualize the Training History*"
      ],
      "metadata": {
        "id": "hhPDhFmgKNrY"
      }
    },
    {
      "cell_type": "code",
      "source": [
        "# Plot training and validation loss\n",
        "plt.figure(figsize=(15, 5))\n",
        "plt.plot(history[\"train_loss\"], label=\"Training Loss\")\n",
        "plt.plot(history[\"val_loss\"], label=\"Validation Loss\")\n",
        "plt.xlabel(\"Epochs\")\n",
        "plt.ylabel(\"Loss\")\n",
        "plt.title(\"Training and Validation Loss\")\n",
        "plt.legend()\n",
        "plt.grid()\n",
        "plt.show()"
      ],
      "metadata": {
        "colab": {
          "base_uri": "https://localhost:8080/",
          "height": 487
        },
        "id": "NeB9Ibtr4RTM",
        "outputId": "968e5ac4-0c13-4be1-ab14-a847016e8b7b"
      },
      "execution_count": null,
      "outputs": [
        {
          "output_type": "display_data",
          "data": {
            "text/plain": [
              "<Figure size 1500x500 with 1 Axes>"
            ],
            "image/png": "[encoded data removed]"
          },
          "metadata": {}
        }
      ]
    },
    {
      "cell_type": "code",
      "source": [
        "# Plot IoU score\n",
        "plt.figure(figsize=(15, 5))\n",
        "plt.plot(history[\"iou_score\"], label=\"IoU Score\", color=\"green\")\n",
        "plt.xlabel(\"Epochs\")\n",
        "plt.ylabel(\"IoU Score\")\n",
        "plt.title(\"IoU Score Over Epochs\")\n",
        "plt.legend()\n",
        "plt.grid()\n",
        "plt.show()"
      ],
      "metadata": {
        "colab": {
          "base_uri": "https://localhost:8080/",
          "height": 487
        },
        "id": "PL8EiRUY-DAj",
        "outputId": "79e6310c-8635-412a-8bcb-9e5a60039a9c"
      },
      "execution_count": null,
      "outputs": [
        {
          "output_type": "display_data",
          "data": {
            "text/plain": [
              "<Figure size 1500x500 with 1 Axes>"
            ],
            "image/png": "[encoded data removed]"
          },
          "metadata": {}
        }
      ]
    },
    {
      "cell_type": "markdown",
      "source": [
        "# **Evaluate the Model**"
      ],
      "metadata": {
        "id": "bHj1dJZm8WwL"
      }
    },
    {
      "cell_type": "markdown",
      "source": [
        "## *Validation and Testing*"
      ],
      "metadata": {
        "id": "JWNca5y787XV"
      }
    },
    {
      "cell_type": "code",
      "source": [
        "import torch\n",
        "import numpy as np\n",
        "from sklearn.metrics import precision_score, recall_score, f1_score"
      ],
      "metadata": {
        "id": "q-paeqTp8lUD"
      },
      "execution_count": null,
      "outputs": []
    },
    {
      "cell_type": "code",
      "source": [
        "def dice_coefficient(pred, target):\n",
        "    pred = pred.flatten()\n",
        "    target = target.flatten()\n",
        "    intersection = (pred * target).sum()\n",
        "    return (2. * intersection) / (pred.sum() + target.sum() + 1e-8)\n",
        "\n",
        "def iou(pred, target):\n",
        "    pred = pred.flatten()\n",
        "    target = target.flatten()\n",
        "    intersection = (pred * target).sum()\n",
        "    union = pred.sum() + target.sum() - intersection\n",
        "    return intersection / (union + 1e-8)\n",
        "\n",
        "# Evaluate model on test dataset\n",
        "def evaluate_model(model, dataloader, threshold=0.5):\n",
        "    model.eval()\n",
        "    dice_scores, iou_scores, precisions, recalls, f1s = [], [], [], [], []\n",
        "\n",
        "    with torch.no_grad():\n",
        "        for images, skeleton in dataloader:\n",
        "            images, skeleton = images.to(device), skeleton.to(device)\n",
        "            outputs = model(images)\n",
        "            preds = (outputs.sigmoid() > threshold).float()\n",
        "\n",
        "            for pred, skeleton in zip(preds, skeleton):\n",
        "                dice_scores.append(dice_coefficient(pred.cpu().numpy(), skeleton.cpu().numpy()))\n",
        "                iou_scores.append(iou(pred.cpu().numpy(), skeleton.cpu().numpy()))\n",
        "                precisions.append(precision_score(skeleton.cpu().numpy().flatten(), pred.cpu().numpy().flatten()))\n",
        "                recalls.append(recall_score(skeleton.cpu().numpy().flatten(), pred.cpu().numpy().flatten()))\n",
        "                f1s.append(f1_score(skeleton.cpu().numpy().flatten(), pred.cpu().numpy().flatten()))\n",
        "\n",
        "    print(f\"Dice Coefficient: {np.mean(dice_scores):.4f}\")\n",
        "    print(f\"IoU: {np.mean(iou_scores):.4f}\")\n",
        "    print(f\"Precision: {np.mean(precisions):.4f}\")\n",
        "    print(f\"Recall: {np.mean(recalls):.4f}\")\n",
        "    print(f\"F1 Score: {np.mean(f1s):.4f}\")"
      ],
      "metadata": {
        "id": "Gg104STg8bWL"
      },
      "execution_count": null,
      "outputs": []
    },
    {
      "cell_type": "code",
      "source": [
        "evaluate_model(model, test_loader)"
      ],
      "metadata": {
        "colab": {
          "base_uri": "https://localhost:8080/"
        },
        "id": "rp4Hjwvu8mwg",
        "outputId": "bc9d8f01-2985-48c7-e779-00ad3d5d5c26"
      },
      "execution_count": null,
      "outputs": [
        {
          "output_type": "stream",
          "name": "stdout",
          "text": [
            "Dice Coefficient: 0.0643\n",
            "IoU: 0.0339\n",
            "Precision: 0.1307\n",
            "Recall: 0.0441\n",
            "F1 Score: 0.0643\n"
          ]
        }
      ]
    },
    {
      "cell_type": "markdown",
      "source": [
        "## *Error Analysis*"
      ],
      "metadata": {
        "id": "xQ42at6i8__W"
      }
    },
    {
      "cell_type": "code",
      "source": [
        "# Set the model to evaluation mode\n",
        "model.eval()\n",
        "\n",
        "with torch.no_grad():\n",
        "    for images, skeleton in test_loader:\n",
        "        # Move images and masks to the device\n",
        "        images, skeleton = images.to(device), skeleton.to(device)\n",
        "\n",
        "        # Get the model outputs\n",
        "        outputs = model(images)\n",
        "        outputs = torch.sigmoid(outputs).cpu().numpy()  # Apply sigmoid and move to CPU\n",
        "        outputs = (outputs * 255).astype(np.uint8)  # Scale to [0, 255] for visualization\n",
        "\n",
        "        images = images.cpu().numpy()\n",
        "        skeleton = skeleton.cpu().numpy()\n",
        "\n",
        "        # Visualize the input image, ground truth, and predicted mask\n",
        "        fig, axes = plt.subplots(1, 3, figsize=(15, 6))\n",
        "\n",
        "        # Input image (grayscale)\n",
        "        axes[0].imshow(images[0, 0], cmap='gray')\n",
        "        axes[0].set_title(\"Input Image\")\n",
        "\n",
        "        # Ground truth mask (binary, scaled to [0, 255] for visualization)\n",
        "        axes[1].imshow(skeleton[0, 0], cmap='gray')\n",
        "        axes[1].set_title(\"Ground Truth\")\n",
        "\n",
        "        # Predicted mask (scaled to [0, 255])\n",
        "        axes[2].imshow(outputs[0, 0], cmap='gray')\n",
        "        axes[2].set_title(\"Predicted skeleton\")\n",
        "\n",
        "        # Display the visualization\n",
        "        plt.show()\n",
        "\n",
        "        break"
      ],
      "metadata": {
        "colab": {
          "base_uri": "https://localhost:8080/",
          "height": 424
        },
        "id": "xFcaXZLi9C_D",
        "outputId": "db31778c-0231-4612-d132-35aa4073d17a"
      },
      "execution_count": null,
      "outputs": [
        {
          "output_type": "display_data",
          "data": {
            "text/plain": [
              "<Figure size 1500x600 with 3 Axes>"
            ],
            "image/png": "[encoded data removed]"
          },
          "metadata": {}
        }
      ]
    },
    {
      "cell_type": "markdown",
      "source": [
        "# **Interpret Results**"
      ],
      "metadata": {
        "id": "9cndx9H6AJfY"
      }
    },
    {
      "cell_type": "code",
      "source": [],
      "metadata": {
        "id": "3Rr6An5QLaiu"
      },
      "execution_count": null,
      "outputs": []
    },
    {
      "cell_type": "markdown",
      "source": [
        "# **Step 1: Organize The Data**"
      ],
      "metadata": {
        "id": "EUJ1CDOP-8Ma"
      }
    },
    {
      "cell_type": "code",
      "source": [
        "from pathlib import Path\n",
        "import numpy as np\n",
        "from PIL import Image\n",
        "from skimage.transform import resize\n",
        "import re\n",
        "import torch.optim as optim\n",
        "from tqdm import tqdm"
      ],
      "metadata": {
        "id": "qayp8_sc-9GC"
      },
      "execution_count": 3,
      "outputs": []
    },
    {
      "cell_type": "code",
      "source": [
        "data_path = Path(\"/content/drive/MyDrive/data_skeleton\")"
      ],
      "metadata": {
        "id": "cueuDG3p_NGS"
      },
      "execution_count": 4,
      "outputs": []
    },
    {
      "cell_type": "code",
      "source": [
        "# Define a function to extract the numeric part of a filename\n",
        "def extract_number(path):\n",
        "\n",
        "    match = re.search(r'(\\d+)', path.name)\n",
        "\n",
        "    return int(match.group(1)) if match else float('inf')  # Handle cases with no number"
      ],
      "metadata": {
        "id": "OyVDy-QS_Hsc"
      },
      "execution_count": 5,
      "outputs": []
    },
    {
      "cell_type": "code",
      "source": [
        "def load_volume_from_folder(base_path, target_depth):\n",
        "    \"\"\"\n",
        "    Load and resize the first `target_depth` slices of a volume from the given folder.\n",
        "    \"\"\"\n",
        "    image_slices = sorted((base_path / \"ori\").glob(\"*.png\"), key=extract_number)[:target_depth]\n",
        "    skeleton_slices = sorted((base_path / \"skeleton\").glob(\"*.png\"), key=extract_number)[:target_depth]\n",
        "\n",
        "    image_volume = np.stack([\n",
        "        resize(\n",
        "            np.array(Image.open(img).convert(\"L\")),\n",
        "            target_shape[1:],  # Resize to target height and width\n",
        "            preserve_range=True,\n",
        "            anti_aliasing=True,\n",
        "        ) for img in image_slices\n",
        "    ], axis=0)\n",
        "\n",
        "    skeleton_volume = np.stack([\n",
        "        resize(\n",
        "            np.array(Image.open(skl).convert(\"L\")),\n",
        "            target_shape[1:],  # Resize to target height and width\n",
        "            preserve_range=True,\n",
        "            anti_aliasing=True,\n",
        "        ) for skl in skeleton_slices\n",
        "    ], axis=0)\n",
        "\n",
        "    return image_volume, skeleton_volume"
      ],
      "metadata": {
        "id": "RR3sfJcOO54A"
      },
      "execution_count": 7,
      "outputs": []
    },
    {
      "cell_type": "code",
      "source": [
        "# Define the target shape for each volume (depth, height, width)\n",
        "target_shape = (64, 256, 256)  # 64 slices of 256x256 images\n",
        "\n",
        "image_volumes = []\n",
        "skeleton_volumes = []\n",
        "\n",
        "# Iterate over folders and load volumes\n",
        "for i, folder in enumerate(tqdm(data_path.iterdir(), desc=\"Processing Folders\"), start=1):\n",
        "    if folder.is_dir():\n",
        "        images, skeletons = load_volume_from_folder(folder, target_shape[0])  # Pass the target depth\n",
        "        image_volumes.append(images)\n",
        "        skeleton_volumes.append(skeletons)\n",
        "\n",
        "        if i == 5:  # Process only the first 5 folders\n",
        "            break"
      ],
      "metadata": {
        "colab": {
          "base_uri": "https://localhost:8080/"
        },
        "id": "QTVJ93uFO8dg",
        "outputId": "0d136336-73c9-4c32-d84a-38fdd821b37f"
      },
      "execution_count": 8,
      "outputs": [
        {
          "output_type": "stream",
          "name": "stderr",
          "text": [
            "Processing Folders: 4it [04:51, 72.97s/it]\n"
          ]
        }
      ]
    },
    {
      "cell_type": "code",
      "source": [
        "# Convert lists to numpy arrays for convenience\n",
        "image_volumes = np.array(image_volumes)\n",
        "skeleton_volumes = np.array(skeleton_volumes)"
      ],
      "metadata": {
        "id": "kOyWCXC-_T1E"
      },
      "execution_count": 9,
      "outputs": []
    },
    {
      "cell_type": "code",
      "source": [
        "print(f\"Image Volumes Shape: {image_volumes.shape}\")\n",
        "print(f\"Image Volumes Data Type: {image_volumes.dtype}\")\n",
        "\n",
        "print(f\"Skeleton Volumes Shape: {skeleton_volumes.shape}\")\n",
        "print(f\"Skeleton Volumes Data Type: {skeleton_volumes.dtype}\")"
      ],
      "metadata": {
        "colab": {
          "base_uri": "https://localhost:8080/"
        },
        "id": "f1xLaFTa_pul",
        "outputId": "057f6648-4599-42cb-d874-7b5f1de7b0d0"
      },
      "execution_count": 10,
      "outputs": [
        {
          "output_type": "stream",
          "name": "stdout",
          "text": [
            "Image Volumes Shape: (5, 64, 256, 256)\n",
            "Image Volumes Data Type: float64\n",
            "Skeleton Volumes Shape: (5, 64, 256, 256)\n",
            "Skeleton Volumes Data Type: float64\n"
          ]
        }
      ]
    },
    {
      "cell_type": "markdown",
      "source": [
        "# **Step 2: Prepare Dataset for PyTorch**"
      ],
      "metadata": {
        "id": "08StGzYp_aWU"
      }
    },
    {
      "cell_type": "code",
      "source": [
        "import torch\n",
        "from torch.utils.data import Dataset"
      ],
      "metadata": {
        "id": "GOs-PQFhPQ4m"
      },
      "execution_count": 11,
      "outputs": []
    },
    {
      "cell_type": "code",
      "source": [
        "class PoreSegmentation3DDataset(Dataset):\n",
        "    def __init__(self, images, skeletons, transform=None):\n",
        "        self.images = images\n",
        "        self.skeletons = skeletons\n",
        "        self.transform = transform\n",
        "\n",
        "    def __len__(self):\n",
        "        return len(self.images)\n",
        "\n",
        "    def __getitem__(self, idx):\n",
        "        image = self.images[idx]\n",
        "        skeleton = self.skeletons[idx]\n",
        "\n",
        "        # Convert to tensor and normalize\n",
        "        image = torch.tensor(image, dtype=torch.float32) / 255.0  # Normalize the image\n",
        "        skeleton = torch.tensor(skeleton, dtype=torch.float32) / 255.0  # Normalize the skeleton\n",
        "\n",
        "        # Ensure binary masks\n",
        "        skeleton = (skeleton > 0.5).float()\n",
        "\n",
        "        # Add channel dimension (C, D, H, W) -> (1, 64, 256, 256)\n",
        "        image = image.unsqueeze(0)  # Add channel dimension: (1, 64, 256, 256)\n",
        "        skeleton = skeleton.unsqueeze(0)  # Add channel dimension: (1, 64, 256, 256)\n",
        "\n",
        "        return image, skeleton"
      ],
      "metadata": {
        "id": "Mr9xtGC0_bpl"
      },
      "execution_count": 12,
      "outputs": []
    },
    {
      "cell_type": "markdown",
      "source": [
        "# **Step 3: Split Data**"
      ],
      "metadata": {
        "id": "LrgAZp9LBhit"
      }
    },
    {
      "cell_type": "code",
      "source": [
        "from sklearn.model_selection import train_test_split"
      ],
      "metadata": {
        "id": "ko86Xu8FPU-T"
      },
      "execution_count": 13,
      "outputs": []
    },
    {
      "cell_type": "code",
      "source": [
        "# Split the data into train, validation, and test sets\n",
        "train_images, test_images, train_skeletons, test_skeletons = train_test_split(image_volumes, skeleton_volumes, test_size=0.2)\n",
        "\n",
        "train_images, val_images, train_skeletons, val_skeletons = train_test_split(train_images, train_skeletons, test_size=0.2)\n",
        "\n",
        "# Create Dataset objects\n",
        "train_dataset = PoreSegmentation3DDataset(train_images, train_skeletons)\n",
        "val_dataset = PoreSegmentation3DDataset(val_images, val_skeletons)\n",
        "test_dataset = PoreSegmentation3DDataset(test_images, test_skeletons)\n",
        "\n",
        "# Create DataLoader objects\n",
        "train_loader = torch.utils.data.DataLoader(train_dataset, batch_size=1, shuffle=True)\n",
        "val_loader = torch.utils.data.DataLoader(val_dataset, batch_size=1, shuffle=False)\n",
        "test_loader = torch.utils.data.DataLoader(test_dataset, batch_size=1, shuffle=False)"
      ],
      "metadata": {
        "id": "jgPHW2HgBibd"
      },
      "execution_count": 14,
      "outputs": []
    },
    {
      "cell_type": "code",
      "source": [
        "# Test the data loader\n",
        "for volumes, skeletons in train_loader:\n",
        "    print(\"Input Shape\",volumes.shape)  # Expected shape: torch.Size([1, 1, 64, 256, 256])\n",
        "    print(\"Skeleton Shape\", skeletons.shape)\n",
        "    break"
      ],
      "metadata": {
        "colab": {
          "base_uri": "https://localhost:8080/"
        },
        "id": "3l4lLfmjJG8U",
        "outputId": "078480be-6a40-41f4-bf1c-09664ba7b4d0"
      },
      "execution_count": 15,
      "outputs": [
        {
          "output_type": "stream",
          "name": "stdout",
          "text": [
            "Input Shape torch.Size([1, 1, 64, 256, 256])\n",
            "Skeleton Shape torch.Size([1, 1, 64, 256, 256])\n"
          ]
        }
      ]
    },
    {
      "cell_type": "markdown",
      "source": [
        "# **Step 4: Build the 3D U-Net**"
      ],
      "metadata": {
        "id": "4DCAqhmuEYg_"
      }
    },
    {
      "cell_type": "code",
      "source": [
        "import torch.nn as nn\n",
        "\n",
        "class UNet3D(nn.Module):\n",
        "    def __init__(self, in_channels, out_channels):\n",
        "        super(UNet3D, self).__init__()\n",
        "        self.enc1 = self.conv_block(in_channels, 64)\n",
        "        self.enc2 = self.conv_block(64, 128)\n",
        "        self.enc3 = self.conv_block(128, 256)\n",
        "        self.enc4 = self.conv_block(256, 512)\n",
        "\n",
        "        self.pool = nn.MaxPool3d(2)\n",
        "\n",
        "        self.upconv1 = self.upconv_block(512, 256)\n",
        "        self.upconv2 = self.upconv_block(256, 128)\n",
        "        self.upconv3 = self.upconv_block(128, 64)\n",
        "\n",
        "        self.final = nn.Conv3d(64, out_channels, kernel_size=1)\n",
        "\n",
        "    def conv_block(self, in_channels, out_channels):\n",
        "        return nn.Sequential(\n",
        "            nn.Conv3d(in_channels, out_channels, kernel_size=3, padding=1),\n",
        "            nn.BatchNorm3d(out_channels),\n",
        "            nn.ReLU(inplace=True),\n",
        "            nn.Conv3d(out_channels, out_channels, kernel_size=3, padding=1),\n",
        "            nn.BatchNorm3d(out_channels),\n",
        "            nn.ReLU(inplace=True)\n",
        "        )\n",
        "\n",
        "    def upconv_block(self, in_channels, out_channels):\n",
        "        return nn.Sequential(\n",
        "            nn.ConvTranspose3d(in_channels, out_channels, kernel_size=2, stride=2),\n",
        "            nn.BatchNorm3d(out_channels),\n",
        "            nn.ReLU(inplace=True)\n",
        "        )\n",
        "\n",
        "    def forward(self, x):\n",
        "        # Encoding\n",
        "        enc1 = self.enc1(x)\n",
        "        enc2 = self.enc2(self.pool(enc1))\n",
        "        enc3 = self.enc3(self.pool(enc2))\n",
        "        enc4 = self.enc4(self.pool(enc3))\n",
        "\n",
        "        # Decoding with skip connections\n",
        "        dec1 = self.upconv1(enc4)\n",
        "        dec1 = dec1 + enc3  # Skip connection\n",
        "        dec2 = self.upconv2(dec1)\n",
        "        dec2 = dec2 + enc2  # Skip connection\n",
        "        dec3 = self.upconv3(dec2)\n",
        "        dec3 = dec3 + enc1  # Skip connection\n",
        "\n",
        "        final = self.final(dec3)\n",
        "        return final"
      ],
      "metadata": {
        "id": "FYrqPJodEch2"
      },
      "execution_count": 16,
      "outputs": []
    },
    {
      "cell_type": "markdown",
      "source": [
        "# **Step 5: Train the Model**"
      ],
      "metadata": {
        "id": "qy4_sjzvEn5I"
      }
    },
    {
      "cell_type": "code",
      "source": [
        "def dice_loss(pred, target, smooth=1e-6, foreground_weight=0.95, background_weight=0.05):\n",
        "    # Apply sigmoid activation to the predictions\n",
        "    pred = torch.sigmoid(pred)\n",
        "\n",
        "    # Interpolate target to match pred shape\n",
        "    target = torch.nn.functional.interpolate(target, size=pred.shape[2:], mode=\"trilinear\", align_corners=True)\n",
        "\n",
        "    # Flatten for Dice loss computation\n",
        "    pred = pred.view(pred.size(0), -1)\n",
        "    target = target.view(target.size(0), -1)\n",
        "\n",
        "    # Calculate the intersection, sum of predictions, and sum of targets\n",
        "    intersection = (pred * target).sum(dim=1)\n",
        "    pred_sum = pred.sum(dim=1)\n",
        "    target_sum = target.sum(dim=1)\n",
        "\n",
        "    # Calculate Dice coefficient\n",
        "    dice = (2. * intersection + smooth) / (pred_sum + target_sum + smooth)\n",
        "\n",
        "    # Apply weights: foreground gets a higher weight, background gets a lower weight\n",
        "    weighted_dice = foreground_weight * dice * target.mean() + background_weight * dice * (1 - target.mean())\n",
        "\n",
        "    return 1 - weighted_dice.mean()\n",
        "\n",
        "def iou_score(pred, target, smooth=1e-6):\n",
        "    \"\"\"\n",
        "    IoU Score for 3D volumetric skeleton data.\n",
        "    \"\"\"\n",
        "    pred = torch.sigmoid(pred)  # Apply sigmoid\n",
        "    pred = (pred > 0.5).float()  # Thresholding\n",
        "    intersection = (pred * target).sum(dim=(1, 2, 3, 4))  # Adjust for 3D (B, D, H, W)\n",
        "    union = pred.sum(dim=(1, 2, 3, 4)) + target.sum(dim=(1, 2, 3, 4)) - intersection\n",
        "    iou = (intersection + smooth) / (union + smooth)\n",
        "    return iou.mean()"
      ],
      "metadata": {
        "id": "sPbuReEdFKMJ"
      },
      "execution_count": 29,
      "outputs": []
    },
    {
      "cell_type": "code",
      "source": [
        "# Device configuration\n",
        "device = torch.device(\"cuda\" if torch.cuda.is_available() else \"cpu\")\n",
        "\n",
        "# Adjust UNet for 3D input and output channels\n",
        "model = UNet3D(1, 1).to(device)  # Replace `UNet` with a 3D version like `UNet3D`\n",
        "optimizer = optim.Adam(model.parameters(), lr=0.001)"
      ],
      "metadata": {
        "id": "JejEgPJdEpbh"
      },
      "execution_count": 30,
      "outputs": []
    },
    {
      "cell_type": "code",
      "source": [
        "history = {\n",
        "    \"train_loss\": [],\n",
        "    \"val_loss\": [],\n",
        "    \"iou_score\": []\n",
        "}\n",
        "\n",
        "epochs = 100\n",
        "\n",
        "for epoch in range(epochs):\n",
        "    model.train()\n",
        "    running_loss = 0.0\n",
        "    for volumes, skeletons in tqdm(train_loader, desc=f\"Epoch {epoch+1}/{epochs}\"):\n",
        "        volumes, skeletons = volumes.to(device), skeletons.to(device)\n",
        "\n",
        "        optimizer.zero_grad()\n",
        "\n",
        "        outputs = model(volumes)\n",
        "\n",
        "        #print(f\"Pred shape: {outputs.shape}, Target shape: {skeletons.shape}\")\n",
        "\n",
        "        loss = dice_loss(outputs, skeletons)\n",
        "        loss.backward()\n",
        "        optimizer.step()\n",
        "\n",
        "        running_loss += loss.item()\n",
        "\n",
        "    avg_train_loss = running_loss / len(train_loader)\n",
        "    history[\"train_loss\"].append(avg_train_loss)\n",
        "    print(f\"Epoch {epoch+1}: Train Loss: {avg_train_loss}\")\n",
        "\n",
        "    model.eval()\n",
        "    val_loss = 0.0\n",
        "    iou = 0.0\n",
        "    with torch.no_grad():\n",
        "        for volumes, skeletons in val_loader:\n",
        "            volumes, skeletons = volumes.to(device), skeletons.to(device)\n",
        "            outputs = model(volumes)\n",
        "\n",
        "            val_loss += dice_loss(outputs, skeletons).item()\n",
        "            iou += iou_score(outputs, skeletons).item()\n",
        "\n",
        "    avg_val_loss = val_loss / len(val_loader)\n",
        "    avg_iou = iou / len(val_loader)\n",
        "    history[\"val_loss\"].append(avg_val_loss)\n",
        "    history[\"iou_score\"].append(avg_iou)\n",
        "    print(f\"Validation Loss: {avg_val_loss}, IoU Score: {avg_iou}\")"
      ],
      "metadata": {
        "colab": {
          "base_uri": "https://localhost:8080/"
        },
        "id": "vboup5ssFHlu",
        "outputId": "765ded2c-f59b-4fb7-a403-0b21d186c29b",
        "collapsed": true
      },
      "execution_count": 31,
      "outputs": [
        {
          "output_type": "stream",
          "name": "stderr",
          "text": [
            "Epoch 1/100: 100%|██████████| 3/3 [00:08<00:00,  2.67s/it]\n"
          ]
        },
        {
          "output_type": "stream",
          "name": "stdout",
          "text": [
            "Epoch 1: Train Loss: 0.9999728202819824\n",
            "Validation Loss: 0.9999994039535522, IoU Score: 1.9349514332134277e-05\n"
          ]
        },
        {
          "output_type": "stream",
          "name": "stderr",
          "text": [
            "Epoch 2/100: 100%|██████████| 3/3 [00:08<00:00,  2.70s/it]\n"
          ]
        },
        {
          "output_type": "stream",
          "name": "stdout",
          "text": [
            "Epoch 2: Train Loss: 0.9999459385871887\n",
            "Validation Loss: 0.9999992251396179, IoU Score: 1.016625901684165e-05\n"
          ]
        },
        {
          "output_type": "stream",
          "name": "stderr",
          "text": [
            "Epoch 3/100: 100%|██████████| 3/3 [00:08<00:00,  2.74s/it]\n"
          ]
        },
        {
          "output_type": "stream",
          "name": "stdout",
          "text": [
            "Epoch 3: Train Loss: 0.9999376138051351\n",
            "Validation Loss: 0.9999994039535522, IoU Score: 6.594460501219146e-06\n"
          ]
        },
        {
          "output_type": "stream",
          "name": "stderr",
          "text": [
            "Epoch 4/100: 100%|██████████| 3/3 [00:08<00:00,  2.76s/it]\n"
          ]
        },
        {
          "output_type": "stream",
          "name": "stdout",
          "text": [
            "Epoch 4: Train Loss: 0.9999317328135172\n",
            "Validation Loss: 0.9999994039535522, IoU Score: 6.796280104026664e-06\n"
          ]
        },
        {
          "output_type": "stream",
          "name": "stderr",
          "text": [
            "Epoch 5/100: 100%|██████████| 3/3 [00:08<00:00,  2.72s/it]\n"
          ]
        },
        {
          "output_type": "stream",
          "name": "stdout",
          "text": [
            "Epoch 5: Train Loss: 0.9999253352483114\n",
            "Validation Loss: 0.9999993443489075, IoU Score: 7.418578661599895e-06\n"
          ]
        },
        {
          "output_type": "stream",
          "name": "stderr",
          "text": [
            "Epoch 6/100: 100%|██████████| 3/3 [00:08<00:00,  2.70s/it]\n"
          ]
        },
        {
          "output_type": "stream",
          "name": "stdout",
          "text": [
            "Epoch 6: Train Loss: 0.9999218583106995\n",
            "Validation Loss: 0.9999992251396179, IoU Score: 9.474328180658631e-06\n"
          ]
        },
        {
          "output_type": "stream",
          "name": "stderr",
          "text": [
            "Epoch 7/100: 100%|██████████| 3/3 [00:08<00:00,  2.67s/it]\n"
          ]
        },
        {
          "output_type": "stream",
          "name": "stdout",
          "text": [
            "Epoch 7: Train Loss: 0.9999183019002279\n",
            "Validation Loss: 0.9999990463256836, IoU Score: 1.3250953088572714e-05\n"
          ]
        },
        {
          "output_type": "stream",
          "name": "stderr",
          "text": [
            "Epoch 8/100: 100%|██████████| 3/3 [00:07<00:00,  2.66s/it]\n"
          ]
        },
        {
          "output_type": "stream",
          "name": "stdout",
          "text": [
            "Epoch 8: Train Loss: 0.9999153216679891\n",
            "Validation Loss: 0.9999988079071045, IoU Score: 2.1622481654048897e-05\n"
          ]
        },
        {
          "output_type": "stream",
          "name": "stderr",
          "text": [
            "Epoch 9/100: 100%|██████████| 3/3 [00:08<00:00,  2.74s/it]\n"
          ]
        },
        {
          "output_type": "stream",
          "name": "stdout",
          "text": [
            "Epoch 9: Train Loss: 0.999911367893219\n",
            "Validation Loss: 0.9999986886978149, IoU Score: 2.3594151571160182e-05\n"
          ]
        },
        {
          "output_type": "stream",
          "name": "stderr",
          "text": [
            "Epoch 10/100: 100%|██████████| 3/3 [00:08<00:00,  2.67s/it]\n"
          ]
        },
        {
          "output_type": "stream",
          "name": "stdout",
          "text": [
            "Epoch 10: Train Loss: 0.9999066591262817\n",
            "Validation Loss: 0.9999985098838806, IoU Score: 2.6567875465843827e-05\n"
          ]
        },
        {
          "output_type": "stream",
          "name": "stderr",
          "text": [
            "Epoch 11/100: 100%|██████████| 3/3 [00:08<00:00,  2.69s/it]\n"
          ]
        },
        {
          "output_type": "stream",
          "name": "stdout",
          "text": [
            "Epoch 11: Train Loss: 0.9999045530954996\n",
            "Validation Loss: 0.9999980926513672, IoU Score: 3.986102092312649e-05\n"
          ]
        },
        {
          "output_type": "stream",
          "name": "stderr",
          "text": [
            "Epoch 12/100: 100%|██████████| 3/3 [00:08<00:00,  2.70s/it]\n"
          ]
        },
        {
          "output_type": "stream",
          "name": "stdout",
          "text": [
            "Epoch 12: Train Loss: 0.9999017715454102\n",
            "Validation Loss: 0.9999986290931702, IoU Score: 2.0355913875391707e-05\n"
          ]
        },
        {
          "output_type": "stream",
          "name": "stderr",
          "text": [
            "Epoch 13/100: 100%|██████████| 3/3 [00:08<00:00,  2.69s/it]\n"
          ]
        },
        {
          "output_type": "stream",
          "name": "stdout",
          "text": [
            "Epoch 13: Train Loss: 0.9998974601427714\n",
            "Validation Loss: 0.9999991059303284, IoU Score: 1.0292985280102585e-05\n"
          ]
        },
        {
          "output_type": "stream",
          "name": "stderr",
          "text": [
            "Epoch 14/100: 100%|██████████| 3/3 [00:08<00:00,  2.71s/it]\n"
          ]
        },
        {
          "output_type": "stream",
          "name": "stdout",
          "text": [
            "Epoch 14: Train Loss: 0.9998966058095297\n",
            "Validation Loss: 0.9999988675117493, IoU Score: 1.3733750165556557e-05\n"
          ]
        },
        {
          "output_type": "stream",
          "name": "stderr",
          "text": [
            "Epoch 15/100: 100%|██████████| 3/3 [00:08<00:00,  2.70s/it]\n"
          ]
        },
        {
          "output_type": "stream",
          "name": "stdout",
          "text": [
            "Epoch 15: Train Loss: 0.9998910625775655\n",
            "Validation Loss: 0.9999982714653015, IoU Score: 2.5853156330413185e-05\n"
          ]
        },
        {
          "output_type": "stream",
          "name": "stderr",
          "text": [
            "Epoch 16/100: 100%|██████████| 3/3 [00:08<00:00,  2.68s/it]\n"
          ]
        },
        {
          "output_type": "stream",
          "name": "stdout",
          "text": [
            "Epoch 16: Train Loss: 0.9998855392138163\n",
            "Validation Loss: 0.999997615814209, IoU Score: 4.4781583710573614e-05\n"
          ]
        },
        {
          "output_type": "stream",
          "name": "stderr",
          "text": [
            "Epoch 17/100: 100%|██████████| 3/3 [00:08<00:00,  2.69s/it]\n"
          ]
        },
        {
          "output_type": "stream",
          "name": "stdout",
          "text": [
            "Epoch 17: Train Loss: 0.9998804926872253\n",
            "Validation Loss: 0.9999973177909851, IoU Score: 5.5660355428699404e-05\n"
          ]
        },
        {
          "output_type": "stream",
          "name": "stderr",
          "text": [
            "Epoch 18/100: 100%|██████████| 3/3 [00:08<00:00,  2.67s/it]\n"
          ]
        },
        {
          "output_type": "stream",
          "name": "stdout",
          "text": [
            "Epoch 18: Train Loss: 0.999882161617279\n",
            "Validation Loss: 0.9999971985816956, IoU Score: 5.8457317209104076e-05\n"
          ]
        },
        {
          "output_type": "stream",
          "name": "stderr",
          "text": [
            "Epoch 19/100: 100%|██████████| 3/3 [00:08<00:00,  2.69s/it]\n"
          ]
        },
        {
          "output_type": "stream",
          "name": "stdout",
          "text": [
            "Epoch 19: Train Loss: 0.9998698830604553\n",
            "Validation Loss: 0.999997079372406, IoU Score: 7.217669917736202e-05\n"
          ]
        },
        {
          "output_type": "stream",
          "name": "stderr",
          "text": [
            "Epoch 20/100: 100%|██████████| 3/3 [00:08<00:00,  2.69s/it]\n"
          ]
        },
        {
          "output_type": "stream",
          "name": "stdout",
          "text": [
            "Epoch 20: Train Loss: 0.9998643199602762\n",
            "Validation Loss: 0.9999969005584717, IoU Score: 0.00010680275590857491\n"
          ]
        },
        {
          "output_type": "stream",
          "name": "stderr",
          "text": [
            "Epoch 21/100: 100%|██████████| 3/3 [00:08<00:00,  2.69s/it]\n"
          ]
        },
        {
          "output_type": "stream",
          "name": "stdout",
          "text": [
            "Epoch 21: Train Loss: 0.9998581806818644\n",
            "Validation Loss: 0.9999969601631165, IoU Score: 0.0001457643520552665\n"
          ]
        },
        {
          "output_type": "stream",
          "name": "stderr",
          "text": [
            "Epoch 22/100: 100%|██████████| 3/3 [00:08<00:00,  2.68s/it]\n"
          ]
        },
        {
          "output_type": "stream",
          "name": "stdout",
          "text": [
            "Epoch 22: Train Loss: 0.9998536904652914\n",
            "Validation Loss: 0.9999974966049194, IoU Score: 0.00010616025247145444\n"
          ]
        },
        {
          "output_type": "stream",
          "name": "stderr",
          "text": [
            "Epoch 23/100: 100%|██████████| 3/3 [00:08<00:00,  2.70s/it]\n"
          ]
        },
        {
          "output_type": "stream",
          "name": "stdout",
          "text": [
            "Epoch 23: Train Loss: 0.9998641014099121\n",
            "Validation Loss: 0.9999973177909851, IoU Score: 3.982776979682967e-05\n"
          ]
        },
        {
          "output_type": "stream",
          "name": "stderr",
          "text": [
            "Epoch 24/100: 100%|██████████| 3/3 [00:08<00:00,  2.70s/it]\n"
          ]
        },
        {
          "output_type": "stream",
          "name": "stdout",
          "text": [
            "Epoch 24: Train Loss: 0.9998517235120138\n",
            "Validation Loss: 0.9999971985816956, IoU Score: 3.567118619685061e-05\n"
          ]
        },
        {
          "output_type": "stream",
          "name": "stderr",
          "text": [
            "Epoch 25/100: 100%|██████████| 3/3 [00:08<00:00,  2.69s/it]\n"
          ]
        },
        {
          "output_type": "stream",
          "name": "stdout",
          "text": [
            "Epoch 25: Train Loss: 0.9998504916826884\n",
            "Validation Loss: 0.9999955892562866, IoU Score: 6.483869947260246e-05\n"
          ]
        },
        {
          "output_type": "stream",
          "name": "stderr",
          "text": [
            "Epoch 26/100: 100%|██████████| 3/3 [00:08<00:00,  2.69s/it]\n"
          ]
        },
        {
          "output_type": "stream",
          "name": "stdout",
          "text": [
            "Epoch 26: Train Loss: 0.9998438954353333\n",
            "Validation Loss: 0.9999944567680359, IoU Score: 9.99089825199917e-05\n"
          ]
        },
        {
          "output_type": "stream",
          "name": "stderr",
          "text": [
            "Epoch 27/100: 100%|██████████| 3/3 [00:08<00:00,  2.70s/it]\n"
          ]
        },
        {
          "output_type": "stream",
          "name": "stdout",
          "text": [
            "Epoch 27: Train Loss: 0.9998334447542826\n",
            "Validation Loss: 0.9999940991401672, IoU Score: 0.00013827435031998903\n"
          ]
        },
        {
          "output_type": "stream",
          "name": "stderr",
          "text": [
            "Epoch 28/100: 100%|██████████| 3/3 [00:08<00:00,  2.70s/it]\n"
          ]
        },
        {
          "output_type": "stream",
          "name": "stdout",
          "text": [
            "Epoch 28: Train Loss: 0.9998275438944498\n",
            "Validation Loss: 0.9999969005584717, IoU Score: 0.00019403244368731976\n"
          ]
        },
        {
          "output_type": "stream",
          "name": "stderr",
          "text": [
            "Epoch 29/100: 100%|██████████| 3/3 [00:08<00:00,  2.69s/it]\n"
          ]
        },
        {
          "output_type": "stream",
          "name": "stdout",
          "text": [
            "Epoch 29: Train Loss: 0.9998139142990112\n",
            "Validation Loss: 0.9999945759773254, IoU Score: 0.0002192381798522547\n"
          ]
        },
        {
          "output_type": "stream",
          "name": "stderr",
          "text": [
            "Epoch 30/100: 100%|██████████| 3/3 [00:08<00:00,  2.67s/it]\n"
          ]
        },
        {
          "output_type": "stream",
          "name": "stdout",
          "text": [
            "Epoch 30: Train Loss: 0.9998266696929932\n",
            "Validation Loss: 0.999997079372406, IoU Score: 0.0001928587444126606\n"
          ]
        },
        {
          "output_type": "stream",
          "name": "stderr",
          "text": [
            "Epoch 31/100: 100%|██████████| 3/3 [00:08<00:00,  2.69s/it]\n"
          ]
        },
        {
          "output_type": "stream",
          "name": "stdout",
          "text": [
            "Epoch 31: Train Loss: 0.999801754951477\n",
            "Validation Loss: 0.9999998211860657, IoU Score: 3.271929949200114e-11\n"
          ]
        },
        {
          "output_type": "stream",
          "name": "stderr",
          "text": [
            "Epoch 32/100: 100%|██████████| 3/3 [00:08<00:00,  2.68s/it]\n"
          ]
        },
        {
          "output_type": "stream",
          "name": "stdout",
          "text": [
            "Epoch 32: Train Loss: 0.9998001853624979\n",
            "Validation Loss: 0.9999995231628418, IoU Score: 4.425370570970699e-05\n"
          ]
        },
        {
          "output_type": "stream",
          "name": "stderr",
          "text": [
            "Epoch 33/100: 100%|██████████| 3/3 [00:08<00:00,  2.69s/it]\n"
          ]
        },
        {
          "output_type": "stream",
          "name": "stdout",
          "text": [
            "Epoch 33: Train Loss: 0.9997799595197042\n",
            "Validation Loss: 1.0, IoU Score: 1.426533557946641e-09\n"
          ]
        },
        {
          "output_type": "stream",
          "name": "stderr",
          "text": [
            "Epoch 34/100: 100%|██████████| 3/3 [00:08<00:00,  2.69s/it]\n"
          ]
        },
        {
          "output_type": "stream",
          "name": "stdout",
          "text": [
            "Epoch 34: Train Loss: 0.999791145324707\n",
            "Validation Loss: 0.9999969005584717, IoU Score: 4.391368929645978e-05\n"
          ]
        },
        {
          "output_type": "stream",
          "name": "stderr",
          "text": [
            "Epoch 35/100: 100%|██████████| 3/3 [00:08<00:00,  2.68s/it]\n"
          ]
        },
        {
          "output_type": "stream",
          "name": "stdout",
          "text": [
            "Epoch 35: Train Loss: 0.9998142917950948\n",
            "Validation Loss: 0.9999961256980896, IoU Score: 5.235298158368096e-05\n"
          ]
        },
        {
          "output_type": "stream",
          "name": "stderr",
          "text": [
            "Epoch 36/100: 100%|██████████| 3/3 [00:08<00:00,  2.70s/it]\n"
          ]
        },
        {
          "output_type": "stream",
          "name": "stdout",
          "text": [
            "Epoch 36: Train Loss: 0.9998206893603007\n",
            "Validation Loss: 0.9999943971633911, IoU Score: 8.338893530890346e-05\n"
          ]
        },
        {
          "output_type": "stream",
          "name": "stderr",
          "text": [
            "Epoch 37/100: 100%|██████████| 3/3 [00:08<00:00,  2.70s/it]\n"
          ]
        },
        {
          "output_type": "stream",
          "name": "stdout",
          "text": [
            "Epoch 37: Train Loss: 0.9998182853062948\n",
            "Validation Loss: 0.9999914169311523, IoU Score: 0.0001983640977414325\n"
          ]
        },
        {
          "output_type": "stream",
          "name": "stderr",
          "text": [
            "Epoch 38/100: 100%|██████████| 3/3 [00:08<00:00,  2.68s/it]\n"
          ]
        },
        {
          "output_type": "stream",
          "name": "stdout",
          "text": [
            "Epoch 38: Train Loss: 0.9998029073079427\n",
            "Validation Loss: 0.9999954700469971, IoU Score: 0.0003553408314473927\n"
          ]
        },
        {
          "output_type": "stream",
          "name": "stderr",
          "text": [
            "Epoch 39/100: 100%|██████████| 3/3 [00:08<00:00,  2.70s/it]\n"
          ]
        },
        {
          "output_type": "stream",
          "name": "stdout",
          "text": [
            "Epoch 39: Train Loss: 0.9997778534889221\n",
            "Validation Loss: 0.9999958276748657, IoU Score: 0.0002645853965077549\n"
          ]
        },
        {
          "output_type": "stream",
          "name": "stderr",
          "text": [
            "Epoch 40/100: 100%|██████████| 3/3 [00:08<00:00,  2.68s/it]\n"
          ]
        },
        {
          "output_type": "stream",
          "name": "stdout",
          "text": [
            "Epoch 40: Train Loss: 0.999753733476003\n",
            "Validation Loss: 0.9999943375587463, IoU Score: 0.000153666507685557\n"
          ]
        },
        {
          "output_type": "stream",
          "name": "stderr",
          "text": [
            "Epoch 41/100: 100%|██████████| 3/3 [00:08<00:00,  2.68s/it]\n"
          ]
        },
        {
          "output_type": "stream",
          "name": "stdout",
          "text": [
            "Epoch 41: Train Loss: 0.9997049967447916\n",
            "Validation Loss: 0.9999988079071045, IoU Score: 2.849002811444734e-09\n"
          ]
        },
        {
          "output_type": "stream",
          "name": "stderr",
          "text": [
            "Epoch 42/100: 100%|██████████| 3/3 [00:08<00:00,  2.69s/it]\n"
          ]
        },
        {
          "output_type": "stream",
          "name": "stdout",
          "text": [
            "Epoch 42: Train Loss: 0.9998575846354166\n",
            "Validation Loss: 0.9999995827674866, IoU Score: 5.2631573765893336e-08\n"
          ]
        },
        {
          "output_type": "stream",
          "name": "stderr",
          "text": [
            "Epoch 43/100: 100%|██████████| 3/3 [00:08<00:00,  2.68s/it]\n"
          ]
        },
        {
          "output_type": "stream",
          "name": "stdout",
          "text": [
            "Epoch 43: Train Loss: 0.9997186462084452\n",
            "Validation Loss: 1.0, IoU Score: 4.655710192369433e-11\n"
          ]
        },
        {
          "output_type": "stream",
          "name": "stderr",
          "text": [
            "Epoch 44/100: 100%|██████████| 3/3 [00:08<00:00,  2.67s/it]\n"
          ]
        },
        {
          "output_type": "stream",
          "name": "stdout",
          "text": [
            "Epoch 44: Train Loss: 0.999688982963562\n",
            "Validation Loss: 1.0, IoU Score: 1.3859822144135503e-11\n"
          ]
        },
        {
          "output_type": "stream",
          "name": "stderr",
          "text": [
            "Epoch 45/100: 100%|██████████| 3/3 [00:08<00:00,  2.71s/it]\n"
          ]
        },
        {
          "output_type": "stream",
          "name": "stdout",
          "text": [
            "Epoch 45: Train Loss: 0.9996757109959921\n",
            "Validation Loss: 1.0, IoU Score: 1.8857250483339527e-10\n"
          ]
        },
        {
          "output_type": "stream",
          "name": "stderr",
          "text": [
            "Epoch 46/100: 100%|██████████| 3/3 [00:08<00:00,  2.68s/it]\n"
          ]
        },
        {
          "output_type": "stream",
          "name": "stdout",
          "text": [
            "Epoch 46: Train Loss: 0.9996261199315389\n",
            "Validation Loss: 1.0, IoU Score: 1.1277771772011391e-10\n"
          ]
        },
        {
          "output_type": "stream",
          "name": "stderr",
          "text": [
            "Epoch 47/100: 100%|██████████| 3/3 [00:08<00:00,  2.70s/it]\n"
          ]
        },
        {
          "output_type": "stream",
          "name": "stdout",
          "text": [
            "Epoch 47: Train Loss: 0.9995661775271097\n",
            "Validation Loss: 1.0, IoU Score: 1.8996960948758357e-10\n"
          ]
        },
        {
          "output_type": "stream",
          "name": "stderr",
          "text": [
            "Epoch 48/100: 100%|██████████| 3/3 [00:08<00:00,  2.70s/it]\n"
          ]
        },
        {
          "output_type": "stream",
          "name": "stdout",
          "text": [
            "Epoch 48: Train Loss: 0.9996523857116699\n",
            "Validation Loss: 1.0, IoU Score: 2.374168917018693e-10\n"
          ]
        },
        {
          "output_type": "stream",
          "name": "stderr",
          "text": [
            "Epoch 49/100: 100%|██████████| 3/3 [00:08<00:00,  2.68s/it]\n"
          ]
        },
        {
          "output_type": "stream",
          "name": "stdout",
          "text": [
            "Epoch 49: Train Loss: 0.9995717406272888\n",
            "Validation Loss: 1.0, IoU Score: 3.7313432899033216e-10\n"
          ]
        },
        {
          "output_type": "stream",
          "name": "stderr",
          "text": [
            "Epoch 50/100: 100%|██████████| 3/3 [00:08<00:00,  2.69s/it]\n"
          ]
        },
        {
          "output_type": "stream",
          "name": "stdout",
          "text": [
            "Epoch 50: Train Loss: 0.9994561274846395\n",
            "Validation Loss: 1.0, IoU Score: 2.5641025303002607e-08\n"
          ]
        },
        {
          "output_type": "stream",
          "name": "stderr",
          "text": [
            "Epoch 51/100: 100%|██████████| 3/3 [00:08<00:00,  2.68s/it]\n"
          ]
        },
        {
          "output_type": "stream",
          "name": "stdout",
          "text": [
            "Epoch 51: Train Loss: 0.9998231927553812\n",
            "Validation Loss: 0.9999921917915344, IoU Score: 0.0001951600715983659\n"
          ]
        },
        {
          "output_type": "stream",
          "name": "stderr",
          "text": [
            "Epoch 52/100: 100%|██████████| 3/3 [00:08<00:00,  2.69s/it]\n"
          ]
        },
        {
          "output_type": "stream",
          "name": "stdout",
          "text": [
            "Epoch 52: Train Loss: 0.9997183084487915\n",
            "Validation Loss: 0.9999933838844299, IoU Score: 9.587613749317825e-05\n"
          ]
        },
        {
          "output_type": "stream",
          "name": "stderr",
          "text": [
            "Epoch 53/100: 100%|██████████| 3/3 [00:08<00:00,  2.69s/it]\n"
          ]
        },
        {
          "output_type": "stream",
          "name": "stdout",
          "text": [
            "Epoch 53: Train Loss: 0.999721089998881\n",
            "Validation Loss: 0.9999926686286926, IoU Score: 0.0001159722960437648\n"
          ]
        },
        {
          "output_type": "stream",
          "name": "stderr",
          "text": [
            "Epoch 54/100: 100%|██████████| 3/3 [00:07<00:00,  2.66s/it]\n"
          ]
        },
        {
          "output_type": "stream",
          "name": "stdout",
          "text": [
            "Epoch 54: Train Loss: 0.9997008244196574\n",
            "Validation Loss: 0.9999917149543762, IoU Score: 0.000151972402818501\n"
          ]
        },
        {
          "output_type": "stream",
          "name": "stderr",
          "text": [
            "Epoch 55/100: 100%|██████████| 3/3 [00:08<00:00,  2.68s/it]\n"
          ]
        },
        {
          "output_type": "stream",
          "name": "stdout",
          "text": [
            "Epoch 55: Train Loss: 0.9996599952379862\n",
            "Validation Loss: 0.9999926090240479, IoU Score: 0.0002963314764201641\n"
          ]
        },
        {
          "output_type": "stream",
          "name": "stderr",
          "text": [
            "Epoch 56/100: 100%|██████████| 3/3 [00:08<00:00,  2.69s/it]\n"
          ]
        },
        {
          "output_type": "stream",
          "name": "stdout",
          "text": [
            "Epoch 56: Train Loss: 0.9996293187141418\n",
            "Validation Loss: 1.0, IoU Score: 2.237136476068713e-09\n"
          ]
        },
        {
          "output_type": "stream",
          "name": "stderr",
          "text": [
            "Epoch 57/100: 100%|██████████| 3/3 [00:08<00:00,  2.67s/it]\n"
          ]
        },
        {
          "output_type": "stream",
          "name": "stdout",
          "text": [
            "Epoch 57: Train Loss: 0.9994788765907288\n",
            "Validation Loss: 1.0, IoU Score: 5.55555494941018e-08\n"
          ]
        },
        {
          "output_type": "stream",
          "name": "stderr",
          "text": [
            "Epoch 58/100: 100%|██████████| 3/3 [00:08<00:00,  2.69s/it]\n"
          ]
        },
        {
          "output_type": "stream",
          "name": "stdout",
          "text": [
            "Epoch 58: Train Loss: 0.9993143280347189\n",
            "Validation Loss: 1.0, IoU Score: 3.2258061111178904e-08\n"
          ]
        },
        {
          "output_type": "stream",
          "name": "stderr",
          "text": [
            "Epoch 59/100: 100%|██████████| 3/3 [00:08<00:00,  2.68s/it]\n"
          ]
        },
        {
          "output_type": "stream",
          "name": "stdout",
          "text": [
            "Epoch 59: Train Loss: 0.9995294014612833\n",
            "Validation Loss: 0.9999999403953552, IoU Score: 8.382229910175454e-10\n"
          ]
        },
        {
          "output_type": "stream",
          "name": "stderr",
          "text": [
            "Epoch 60/100: 100%|██████████| 3/3 [00:08<00:00,  2.68s/it]\n"
          ]
        },
        {
          "output_type": "stream",
          "name": "stdout",
          "text": [
            "Epoch 60: Train Loss: 0.9993747075398763\n",
            "Validation Loss: 1.0, IoU Score: 5.55555494941018e-08\n"
          ]
        },
        {
          "output_type": "stream",
          "name": "stderr",
          "text": [
            "Epoch 61/100: 100%|██████████| 3/3 [00:08<00:00,  2.67s/it]\n"
          ]
        },
        {
          "output_type": "stream",
          "name": "stdout",
          "text": [
            "Epoch 61: Train Loss: 0.9998912215232849\n",
            "Validation Loss: 1.0, IoU Score: 5.55555494941018e-08\n"
          ]
        },
        {
          "output_type": "stream",
          "name": "stderr",
          "text": [
            "Epoch 62/100: 100%|██████████| 3/3 [00:08<00:00,  2.69s/it]\n"
          ]
        },
        {
          "output_type": "stream",
          "name": "stdout",
          "text": [
            "Epoch 62: Train Loss: 0.9994993011156718\n",
            "Validation Loss: 1.0, IoU Score: 1.7667844964819324e-09\n"
          ]
        },
        {
          "output_type": "stream",
          "name": "stderr",
          "text": [
            "Epoch 63/100: 100%|██████████| 3/3 [00:08<00:00,  2.68s/it]\n"
          ]
        },
        {
          "output_type": "stream",
          "name": "stdout",
          "text": [
            "Epoch 63: Train Loss: 0.9994473457336426\n",
            "Validation Loss: 1.0, IoU Score: 1.8392495859664848e-10\n"
          ]
        },
        {
          "output_type": "stream",
          "name": "stderr",
          "text": [
            "Epoch 64/100: 100%|██████████| 3/3 [00:08<00:00,  2.69s/it]\n"
          ]
        },
        {
          "output_type": "stream",
          "name": "stdout",
          "text": [
            "Epoch 64: Train Loss: 0.9991493225097656\n",
            "Validation Loss: 1.0, IoU Score: 9.569377512619326e-10\n"
          ]
        },
        {
          "output_type": "stream",
          "name": "stderr",
          "text": [
            "Epoch 65/100: 100%|██████████| 3/3 [00:08<00:00,  2.68s/it]\n"
          ]
        },
        {
          "output_type": "stream",
          "name": "stdout",
          "text": [
            "Epoch 65: Train Loss: 0.9989726344744364\n",
            "Validation Loss: 1.0, IoU Score: 1.1148272305305795e-09\n"
          ]
        },
        {
          "output_type": "stream",
          "name": "stderr",
          "text": [
            "Epoch 66/100: 100%|██████████| 3/3 [00:08<00:00,  2.69s/it]\n"
          ]
        },
        {
          "output_type": "stream",
          "name": "stdout",
          "text": [
            "Epoch 66: Train Loss: 0.9988656242688497\n",
            "Validation Loss: 1.0, IoU Score: 5.5555555711350735e-09\n"
          ]
        },
        {
          "output_type": "stream",
          "name": "stderr",
          "text": [
            "Epoch 67/100: 100%|██████████| 3/3 [00:08<00:00,  2.68s/it]\n"
          ]
        },
        {
          "output_type": "stream",
          "name": "stdout",
          "text": [
            "Epoch 67: Train Loss: 0.9991486867268881\n",
            "Validation Loss: 1.0, IoU Score: 2.8735633317289455e-10\n"
          ]
        },
        {
          "output_type": "stream",
          "name": "stderr",
          "text": [
            "Epoch 68/100: 100%|██████████| 3/3 [00:08<00:00,  2.67s/it]\n"
          ]
        },
        {
          "output_type": "stream",
          "name": "stdout",
          "text": [
            "Epoch 68: Train Loss: 0.9991738398869833\n",
            "Validation Loss: 0.9999988079071045, IoU Score: 9.357347153127193e-06\n"
          ]
        },
        {
          "output_type": "stream",
          "name": "stderr",
          "text": [
            "Epoch 69/100: 100%|██████████| 3/3 [00:08<00:00,  2.67s/it]\n"
          ]
        },
        {
          "output_type": "stream",
          "name": "stdout",
          "text": [
            "Epoch 69: Train Loss: 0.9991394480069479\n",
            "Validation Loss: 0.9999972581863403, IoU Score: 4.776177593157627e-05\n"
          ]
        },
        {
          "output_type": "stream",
          "name": "stderr",
          "text": [
            "Epoch 70/100: 100%|██████████| 3/3 [00:08<00:00,  2.70s/it]\n"
          ]
        },
        {
          "output_type": "stream",
          "name": "stdout",
          "text": [
            "Epoch 70: Train Loss: 0.9988324046134949\n",
            "Validation Loss: 0.9999998807907104, IoU Score: 1.538461447125883e-08\n"
          ]
        },
        {
          "output_type": "stream",
          "name": "stderr",
          "text": [
            "Epoch 71/100: 100%|██████████| 3/3 [00:08<00:00,  2.68s/it]\n"
          ]
        },
        {
          "output_type": "stream",
          "name": "stdout",
          "text": [
            "Epoch 71: Train Loss: 0.9988392392794291\n",
            "Validation Loss: 0.9999963641166687, IoU Score: 5.485014844452962e-05\n"
          ]
        },
        {
          "output_type": "stream",
          "name": "stderr",
          "text": [
            "Epoch 72/100: 100%|██████████| 3/3 [00:08<00:00,  2.67s/it]\n"
          ]
        },
        {
          "output_type": "stream",
          "name": "stdout",
          "text": [
            "Epoch 72: Train Loss: 0.999261478583018\n",
            "Validation Loss: 1.0, IoU Score: 2.996164774615728e-11\n"
          ]
        },
        {
          "output_type": "stream",
          "name": "stderr",
          "text": [
            "Epoch 73/100: 100%|██████████| 3/3 [00:07<00:00,  2.67s/it]\n"
          ]
        },
        {
          "output_type": "stream",
          "name": "stdout",
          "text": [
            "Epoch 73: Train Loss: 0.9989660978317261\n",
            "Validation Loss: 1.0, IoU Score: 1.6572754280019808e-10\n"
          ]
        },
        {
          "output_type": "stream",
          "name": "stderr",
          "text": [
            "Epoch 74/100: 100%|██████████| 3/3 [00:08<00:00,  2.68s/it]\n"
          ]
        },
        {
          "output_type": "stream",
          "name": "stdout",
          "text": [
            "Epoch 74: Train Loss: 0.9984979232152303\n",
            "Validation Loss: 1.0, IoU Score: 8.312551758038467e-10\n"
          ]
        },
        {
          "output_type": "stream",
          "name": "stderr",
          "text": [
            "Epoch 75/100: 100%|██████████| 3/3 [00:08<00:00,  2.68s/it]\n"
          ]
        },
        {
          "output_type": "stream",
          "name": "stdout",
          "text": [
            "Epoch 75: Train Loss: 0.998595674832662\n",
            "Validation Loss: 1.0, IoU Score: 1.0540739808773125e-10\n"
          ]
        },
        {
          "output_type": "stream",
          "name": "stderr",
          "text": [
            "Epoch 76/100: 100%|██████████| 3/3 [00:08<00:00,  2.68s/it]\n"
          ]
        },
        {
          "output_type": "stream",
          "name": "stdout",
          "text": [
            "Epoch 76: Train Loss: 0.9988540609677633\n",
            "Validation Loss: 0.999997615814209, IoU Score: 1.377789965451015e-10\n"
          ]
        },
        {
          "output_type": "stream",
          "name": "stderr",
          "text": [
            "Epoch 77/100: 100%|██████████| 3/3 [00:08<00:00,  2.69s/it]\n"
          ]
        },
        {
          "output_type": "stream",
          "name": "stdout",
          "text": [
            "Epoch 77: Train Loss: 0.9984539747238159\n",
            "Validation Loss: 1.0, IoU Score: 6.574621957966542e-10\n"
          ]
        },
        {
          "output_type": "stream",
          "name": "stderr",
          "text": [
            "Epoch 78/100: 100%|██████████| 3/3 [00:08<00:00,  2.68s/it]\n"
          ]
        },
        {
          "output_type": "stream",
          "name": "stdout",
          "text": [
            "Epoch 78: Train Loss: 0.9983797073364258\n",
            "Validation Loss: 1.0, IoU Score: 1.1494252660781967e-08\n"
          ]
        },
        {
          "output_type": "stream",
          "name": "stderr",
          "text": [
            "Epoch 79/100: 100%|██████████| 3/3 [00:08<00:00,  2.68s/it]\n"
          ]
        },
        {
          "output_type": "stream",
          "name": "stdout",
          "text": [
            "Epoch 79: Train Loss: 0.9983512361844381\n",
            "Validation Loss: 1.0, IoU Score: 8.695651976253771e-10\n"
          ]
        },
        {
          "output_type": "stream",
          "name": "stderr",
          "text": [
            "Epoch 80/100: 100%|██████████| 3/3 [00:08<00:00,  2.67s/it]\n"
          ]
        },
        {
          "output_type": "stream",
          "name": "stdout",
          "text": [
            "Epoch 80: Train Loss: 0.9978578885396322\n",
            "Validation Loss: 1.0, IoU Score: 3.0487805613432784e-09\n"
          ]
        },
        {
          "output_type": "stream",
          "name": "stderr",
          "text": [
            "Epoch 81/100: 100%|██████████| 3/3 [00:08<00:00,  2.69s/it]\n"
          ]
        },
        {
          "output_type": "stream",
          "name": "stdout",
          "text": [
            "Epoch 81: Train Loss: 0.9977187712987264\n",
            "Validation Loss: 1.0, IoU Score: 2.386634889717243e-09\n"
          ]
        },
        {
          "output_type": "stream",
          "name": "stderr",
          "text": [
            "Epoch 82/100: 100%|██████████| 3/3 [00:08<00:00,  2.68s/it]\n"
          ]
        },
        {
          "output_type": "stream",
          "name": "stdout",
          "text": [
            "Epoch 82: Train Loss: 0.9982263644536337\n",
            "Validation Loss: 1.0, IoU Score: 6.684491848929497e-10\n"
          ]
        },
        {
          "output_type": "stream",
          "name": "stderr",
          "text": [
            "Epoch 83/100: 100%|██████████| 3/3 [00:08<00:00,  2.67s/it]\n"
          ]
        },
        {
          "output_type": "stream",
          "name": "stdout",
          "text": [
            "Epoch 83: Train Loss: 0.997615396976471\n",
            "Validation Loss: 1.0, IoU Score: 5.617977638650018e-09\n"
          ]
        },
        {
          "output_type": "stream",
          "name": "stderr",
          "text": [
            "Epoch 84/100: 100%|██████████| 3/3 [00:07<00:00,  2.67s/it]\n"
          ]
        },
        {
          "output_type": "stream",
          "name": "stdout",
          "text": [
            "Epoch 84: Train Loss: 0.9969144463539124\n",
            "Validation Loss: 1.0, IoU Score: 1.4492753663830626e-08\n"
          ]
        },
        {
          "output_type": "stream",
          "name": "stderr",
          "text": [
            "Epoch 85/100: 100%|██████████| 3/3 [00:08<00:00,  2.68s/it]\n"
          ]
        },
        {
          "output_type": "stream",
          "name": "stdout",
          "text": [
            "Epoch 85: Train Loss: 0.9970043698946635\n",
            "Validation Loss: 1.0, IoU Score: 1.1111111142270147e-08\n"
          ]
        },
        {
          "output_type": "stream",
          "name": "stderr",
          "text": [
            "Epoch 86/100: 100%|██████████| 3/3 [00:07<00:00,  2.66s/it]\n"
          ]
        },
        {
          "output_type": "stream",
          "name": "stdout",
          "text": [
            "Epoch 86: Train Loss: 0.9969213406244913\n",
            "Validation Loss: 1.0, IoU Score: 1.2658228243367375e-08\n"
          ]
        },
        {
          "output_type": "stream",
          "name": "stderr",
          "text": [
            "Epoch 87/100: 100%|██████████| 3/3 [00:08<00:00,  2.69s/it]\n"
          ]
        },
        {
          "output_type": "stream",
          "name": "stdout",
          "text": [
            "Epoch 87: Train Loss: 0.9963205059369405\n",
            "Validation Loss: 1.0, IoU Score: 5.102041011895153e-09\n"
          ]
        },
        {
          "output_type": "stream",
          "name": "stderr",
          "text": [
            "Epoch 88/100: 100%|██████████| 3/3 [00:08<00:00,  2.67s/it]\n"
          ]
        },
        {
          "output_type": "stream",
          "name": "stdout",
          "text": [
            "Epoch 88: Train Loss: 0.9958998362223307\n",
            "Validation Loss: 1.0, IoU Score: 7.518797140448896e-09\n"
          ]
        },
        {
          "output_type": "stream",
          "name": "stderr",
          "text": [
            "Epoch 89/100: 100%|██████████| 3/3 [00:08<00:00,  2.68s/it]\n"
          ]
        },
        {
          "output_type": "stream",
          "name": "stdout",
          "text": [
            "Epoch 89: Train Loss: 0.9955681165059408\n",
            "Validation Loss: 1.0, IoU Score: 1.3888889149882289e-08\n"
          ]
        },
        {
          "output_type": "stream",
          "name": "stderr",
          "text": [
            "Epoch 90/100: 100%|██████████| 3/3 [00:08<00:00,  2.68s/it]\n"
          ]
        },
        {
          "output_type": "stream",
          "name": "stdout",
          "text": [
            "Epoch 90: Train Loss: 0.9950935443242391\n",
            "Validation Loss: 1.0, IoU Score: 4.761904293104635e-08\n"
          ]
        },
        {
          "output_type": "stream",
          "name": "stderr",
          "text": [
            "Epoch 91/100: 100%|██████████| 3/3 [00:08<00:00,  2.69s/it]\n"
          ]
        },
        {
          "output_type": "stream",
          "name": "stdout",
          "text": [
            "Epoch 91: Train Loss: 0.997345507144928\n",
            "Validation Loss: 1.0, IoU Score: 5.952380810470004e-09\n"
          ]
        },
        {
          "output_type": "stream",
          "name": "stderr",
          "text": [
            "Epoch 92/100: 100%|██████████| 3/3 [00:08<00:00,  2.68s/it]\n"
          ]
        },
        {
          "output_type": "stream",
          "name": "stdout",
          "text": [
            "Epoch 92: Train Loss: 0.9953779379526774\n",
            "Validation Loss: 1.0, IoU Score: 8.280887781042523e-11\n"
          ]
        },
        {
          "output_type": "stream",
          "name": "stderr",
          "text": [
            "Epoch 93/100: 100%|██████████| 3/3 [00:07<00:00,  2.66s/it]\n"
          ]
        },
        {
          "output_type": "stream",
          "name": "stdout",
          "text": [
            "Epoch 93: Train Loss: 0.9978085358937582\n",
            "Validation Loss: 1.0, IoU Score: 6.766357613097185e-11\n"
          ]
        },
        {
          "output_type": "stream",
          "name": "stderr",
          "text": [
            "Epoch 94/100: 100%|██████████| 3/3 [00:08<00:00,  2.68s/it]\n"
          ]
        },
        {
          "output_type": "stream",
          "name": "stdout",
          "text": [
            "Epoch 94: Train Loss: 0.9964765310287476\n",
            "Validation Loss: 1.0, IoU Score: 1.1779950626067404e-10\n"
          ]
        },
        {
          "output_type": "stream",
          "name": "stderr",
          "text": [
            "Epoch 95/100: 100%|██████████| 3/3 [00:08<00:00,  2.68s/it]\n"
          ]
        },
        {
          "output_type": "stream",
          "name": "stdout",
          "text": [
            "Epoch 95: Train Loss: 0.9962169925371805\n",
            "Validation Loss: 1.0, IoU Score: 2.1003990213763757e-10\n"
          ]
        },
        {
          "output_type": "stream",
          "name": "stderr",
          "text": [
            "Epoch 96/100: 100%|██████████| 3/3 [00:08<00:00,  2.69s/it]\n"
          ]
        },
        {
          "output_type": "stream",
          "name": "stdout",
          "text": [
            "Epoch 96: Train Loss: 0.9958946307500204\n",
            "Validation Loss: 1.0, IoU Score: 2.94117646904013e-10\n"
          ]
        },
        {
          "output_type": "stream",
          "name": "stderr",
          "text": [
            "Epoch 97/100: 100%|██████████| 3/3 [00:08<00:00,  2.67s/it]\n"
          ]
        },
        {
          "output_type": "stream",
          "name": "stdout",
          "text": [
            "Epoch 97: Train Loss: 0.9951621890068054\n",
            "Validation Loss: 1.0, IoU Score: 1.999999943436137e-09\n"
          ]
        },
        {
          "output_type": "stream",
          "name": "stderr",
          "text": [
            "Epoch 98/100: 100%|██████████| 3/3 [00:08<00:00,  2.68s/it]\n"
          ]
        },
        {
          "output_type": "stream",
          "name": "stdout",
          "text": [
            "Epoch 98: Train Loss: 0.9972183704376221\n",
            "Validation Loss: 1.0, IoU Score: 6.553079745508228e-10\n"
          ]
        },
        {
          "output_type": "stream",
          "name": "stderr",
          "text": [
            "Epoch 99/100: 100%|██████████| 3/3 [00:07<00:00,  2.67s/it]\n"
          ]
        },
        {
          "output_type": "stream",
          "name": "stdout",
          "text": [
            "Epoch 99: Train Loss: 0.9972202579180399\n",
            "Validation Loss: 1.0, IoU Score: 4.2735043281894036e-10\n"
          ]
        },
        {
          "output_type": "stream",
          "name": "stderr",
          "text": [
            "Epoch 100/100: 100%|██████████| 3/3 [00:08<00:00,  2.69s/it]\n"
          ]
        },
        {
          "output_type": "stream",
          "name": "stdout",
          "text": [
            "Epoch 100: Train Loss: 0.9968980749448141\n",
            "Validation Loss: 1.0, IoU Score: 2.0790020816008337e-09\n"
          ]
        }
      ]
    },
    {
      "cell_type": "code",
      "source": [
        "# Plot training and validation loss\n",
        "plt.figure(figsize=(15, 5))\n",
        "plt.plot(history[\"train_loss\"], label=\"Training Loss\")\n",
        "plt.plot(history[\"val_loss\"], label=\"Validation Loss\")\n",
        "plt.xlabel(\"Epochs\")\n",
        "plt.ylabel(\"Loss\")\n",
        "plt.title(\"Training and Validation Loss\")\n",
        "plt.legend()\n",
        "plt.grid()\n",
        "plt.show()"
      ],
      "metadata": {
        "colab": {
          "base_uri": "https://localhost:8080/",
          "height": 487
        },
        "id": "r2yeJdWEJf-H",
        "outputId": "0da64f20-8f1d-47e9-da57-f65ab6de6d3f"
      },
      "execution_count": 32,
      "outputs": [
        {
          "output_type": "display_data",
          "data": {
            "text/plain": [
              "<Figure size 1500x500 with 1 Axes>"
            ],
            "image/png": "[encoded data removed]"
          },
          "metadata": {}
        }
      ]
    },
    {
      "cell_type": "code",
      "source": [
        "# Plot IoU score\n",
        "plt.figure(figsize=(15, 5))\n",
        "plt.plot(history[\"iou_score\"], label=\"IoU Score\", color=\"green\")\n",
        "plt.xlabel(\"Epochs\")\n",
        "plt.ylabel(\"IoU Score\")\n",
        "plt.title(\"IoU Score Over Epochs\")\n",
        "plt.legend()\n",
        "plt.grid()\n",
        "plt.show()"
      ],
      "metadata": {
        "colab": {
          "base_uri": "https://localhost:8080/",
          "height": 487
        },
        "id": "NKhAZMVVbB7S",
        "outputId": "0d432a2a-fdca-4935-8e33-b21c04b32611"
      },
      "execution_count": 33,
      "outputs": [
        {
          "output_type": "display_data",
          "data": {
            "text/plain": [
              "<Figure size 1500x500 with 1 Axes>"
            ],
            "image/png": "[encoded data removed]"
          },
          "metadata": {}
        }
      ]
    }
  ]
}